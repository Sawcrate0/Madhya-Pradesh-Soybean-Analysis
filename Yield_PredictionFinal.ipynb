{
  "cells": [
    {
      "cell_type": "markdown",
      "metadata": {
        "colab_type": "text",
        "id": "view-in-github"
      },
      "source": [
        "<a href=\"https://colab.research.google.com/github/Drinkler/Yield-Prediction/blob/main/Yield_Prediction.ipynb\" target=\"_parent\"><img src=\"https://colab.research.google.com/assets/colab-badge.svg\" alt=\"Open In Colab\"/></a>"
      ]
    },
    {
      "cell_type": "markdown",
      "metadata": {
        "id": "gICh1IqOCslF"
      },
      "source": [
        "# General"
      ]
    },
    {
      "cell_type": "code",
      "execution_count": 1487,
      "metadata": {
        "id": "_5JPwoqvpEg0"
      },
      "outputs": [],
      "source": [
        "# Imports\n",
        "import numpy as np\n",
        "import pandas as pd\n",
        "\n",
        "import sklearn\n",
        "import seaborn as sns\n",
        "import matplotlib.pyplot as plt"
      ]
    },
    {
      "cell_type": "code",
      "execution_count": 1488,
      "metadata": {
        "id": "i7ilD5PoNpL8"
      },
      "outputs": [],
      "source": [
        "# Define url to data\n",
        "resource_folder = 'https://raw.githubusercontent.com/Sawcrate0/Vacances-ski-2/main/res'\n",
        "\n",
        "rainfall_url = '{}/rainfall.csv'.format(resource_folder)\n",
        "temperature_url = '{}/temp.csv'.format(resource_folder)\n",
        "yield_url = '{}/yield.csv'.format(resource_folder)"
      ]
    },
    {
      "cell_type": "code",
      "execution_count": 1489,
      "metadata": {
        "colab": {
          "base_uri": "https://localhost:8080/"
        },
        "id": "DaGEgUcnpFrc",
        "outputId": "c3467339-107b-4546-f137-5295452185d4"
      },
      "outputs": [
        {
          "name": "stderr",
          "output_type": "stream",
          "text": [
            "C:\\Users\\nicol\\AppData\\Local\\Temp\\ipykernel_12676\\343149428.py:2: ParserWarning: Falling back to the 'python' engine because the 'c' engine does not support regex separators (separators > 1 char and different from '\\s+' are interpreted as regex); you can avoid this warning by specifying engine='python'.\n",
            "  rainfall_data = pd.read_csv(rainfall_url, sep=', ')\n",
            "C:\\Users\\nicol\\AppData\\Local\\Temp\\ipykernel_12676\\343149428.py:3: ParserWarning: Falling back to the 'python' engine because the 'c' engine does not support regex separators (separators > 1 char and different from '\\s+' are interpreted as regex); you can avoid this warning by specifying engine='python'.\n",
            "  temperature_data = pd.read_csv(temperature_url, sep=', ')\n",
            "C:\\Users\\nicol\\AppData\\Local\\Temp\\ipykernel_12676\\343149428.py:4: ParserWarning: Falling back to the 'python' engine because the 'c' engine does not support regex separators (separators > 1 char and different from '\\s+' are interpreted as regex); you can avoid this warning by specifying engine='python'.\n",
            "  yield_data = pd.read_csv(yield_url, sep=', ')\n"
          ]
        }
      ],
      "source": [
        "# Load data\n",
        "rainfall_data = pd.read_csv(rainfall_url, sep=', ')\n",
        "temperature_data = pd.read_csv(temperature_url, sep=', ')\n",
        "yield_data = pd.read_csv(yield_url, sep=', ')"
      ]
    },
    {
      "cell_type": "markdown",
      "metadata": {
        "id": "m739eEE20dev"
      },
      "source": [
        "#Data Preparation\n"
      ]
    },
    {
      "cell_type": "markdown",
      "metadata": {
        "id": "ZWPdFJhwif9X"
      },
      "source": [
        "## Rainfall data"
      ]
    },
    {
      "cell_type": "code",
      "execution_count": 1490,
      "metadata": {
        "colab": {
          "base_uri": "https://localhost:8080/",
          "height": 0
        },
        "id": "wY67XxF40IC5",
        "outputId": "ac53f758-39a7-4bee-db59-9b971a5ccf14"
      },
      "outputs": [
        {
          "data": {
            "text/html": [
              "<div>\n",
              "<style scoped>\n",
              "    .dataframe tbody tr th:only-of-type {\n",
              "        vertical-align: middle;\n",
              "    }\n",
              "\n",
              "    .dataframe tbody tr th {\n",
              "        vertical-align: top;\n",
              "    }\n",
              "\n",
              "    .dataframe thead th {\n",
              "        text-align: right;\n",
              "    }\n",
              "</style>\n",
              "<table border=\"1\" class=\"dataframe\">\n",
              "  <thead>\n",
              "    <tr style=\"text-align: right;\">\n",
              "      <th></th>\n",
              "      <th>Rainfall</th>\n",
              "      <th>Year</th>\n",
              "      <th>Element</th>\n",
              "      <th>Area</th>\n",
              "    </tr>\n",
              "  </thead>\n",
              "  <tbody>\n",
              "    <tr>\n",
              "      <th>0</th>\n",
              "      <td>3.680000</td>\n",
              "      <td>2010</td>\n",
              "      <td>JUN</td>\n",
              "      <td>Anuppur</td>\n",
              "    </tr>\n",
              "    <tr>\n",
              "      <th>1</th>\n",
              "      <td>13.399120</td>\n",
              "      <td>2010</td>\n",
              "      <td>JUL</td>\n",
              "      <td>Anuppur</td>\n",
              "    </tr>\n",
              "    <tr>\n",
              "      <th>2</th>\n",
              "      <td>9.782032</td>\n",
              "      <td>2010</td>\n",
              "      <td>AUG</td>\n",
              "      <td>Anuppur</td>\n",
              "    </tr>\n",
              "    <tr>\n",
              "      <th>3</th>\n",
              "      <td>8.332526</td>\n",
              "      <td>2010</td>\n",
              "      <td>SEP</td>\n",
              "      <td>Anuppur</td>\n",
              "    </tr>\n",
              "    <tr>\n",
              "      <th>4</th>\n",
              "      <td>1.451772</td>\n",
              "      <td>2010</td>\n",
              "      <td>OCT</td>\n",
              "      <td>Anuppur</td>\n",
              "    </tr>\n",
              "    <tr>\n",
              "      <th>...</th>\n",
              "      <td>...</td>\n",
              "      <td>...</td>\n",
              "      <td>...</td>\n",
              "      <td>...</td>\n",
              "    </tr>\n",
              "    <tr>\n",
              "      <th>2755</th>\n",
              "      <td>14.133820</td>\n",
              "      <td>2019</td>\n",
              "      <td>JUL</td>\n",
              "      <td>Vidisha</td>\n",
              "    </tr>\n",
              "    <tr>\n",
              "      <th>2756</th>\n",
              "      <td>20.064700</td>\n",
              "      <td>2019</td>\n",
              "      <td>AUG</td>\n",
              "      <td>Vidisha</td>\n",
              "    </tr>\n",
              "    <tr>\n",
              "      <th>2757</th>\n",
              "      <td>20.979780</td>\n",
              "      <td>2019</td>\n",
              "      <td>SEP</td>\n",
              "      <td>Vidisha</td>\n",
              "    </tr>\n",
              "    <tr>\n",
              "      <th>2758</th>\n",
              "      <td>1.074892</td>\n",
              "      <td>2019</td>\n",
              "      <td>OCT</td>\n",
              "      <td>Vidisha</td>\n",
              "    </tr>\n",
              "    <tr>\n",
              "      <th>2759</th>\n",
              "      <td>0.218000</td>\n",
              "      <td>2019</td>\n",
              "      <td>NOV</td>\n",
              "      <td>Vidisha</td>\n",
              "    </tr>\n",
              "  </tbody>\n",
              "</table>\n",
              "<p>2760 rows × 4 columns</p>\n",
              "</div>"
            ],
            "text/plain": [
              "       Rainfall  Year Element     Area\n",
              "0      3.680000  2010     JUN  Anuppur\n",
              "1     13.399120  2010     JUL  Anuppur\n",
              "2      9.782032  2010     AUG  Anuppur\n",
              "3      8.332526  2010     SEP  Anuppur\n",
              "4      1.451772  2010     OCT  Anuppur\n",
              "...         ...   ...     ...      ...\n",
              "2755  14.133820  2019     JUL  Vidisha\n",
              "2756  20.064700  2019     AUG  Vidisha\n",
              "2757  20.979780  2019     SEP  Vidisha\n",
              "2758   1.074892  2019     OCT  Vidisha\n",
              "2759   0.218000  2019     NOV  Vidisha\n",
              "\n",
              "[2760 rows x 4 columns]"
            ]
          },
          "execution_count": 1490,
          "metadata": {},
          "output_type": "execute_result"
        }
      ],
      "source": [
        "rainfall_data"
      ]
    },
    {
      "cell_type": "code",
      "execution_count": 1491,
      "metadata": {
        "colab": {
          "base_uri": "https://localhost:8080/"
        },
        "id": "XgYcmd_nc0M1",
        "outputId": "131498ab-2cb4-42d8-fdb1-dea150e0ae9e"
      },
      "outputs": [
        {
          "name": "stdout",
          "output_type": "stream",
          "text": [
            "<class 'pandas.core.frame.DataFrame'>\n",
            "RangeIndex: 2760 entries, 0 to 2759\n",
            "Data columns (total 4 columns):\n",
            " #   Column    Non-Null Count  Dtype  \n",
            "---  ------    --------------  -----  \n",
            " 0   Rainfall  2760 non-null   float64\n",
            " 1   Year      2760 non-null   int64  \n",
            " 2   Element   2760 non-null   object \n",
            " 3   Area      2760 non-null   object \n",
            "dtypes: float64(1), int64(1), object(2)\n",
            "memory usage: 86.4+ KB\n"
          ]
        }
      ],
      "source": [
        "rainfall_data.info()"
      ]
    },
    {
      "cell_type": "code",
      "execution_count": 1492,
      "metadata": {
        "colab": {
          "base_uri": "https://localhost:8080/",
          "height": 0
        },
        "id": "S8aspJrItqdj",
        "outputId": "23de280c-6e3b-437f-d2f9-cf0d44af26f0"
      },
      "outputs": [
        {
          "data": {
            "text/html": [
              "<div>\n",
              "<style scoped>\n",
              "    .dataframe tbody tr th:only-of-type {\n",
              "        vertical-align: middle;\n",
              "    }\n",
              "\n",
              "    .dataframe tbody tr th {\n",
              "        vertical-align: top;\n",
              "    }\n",
              "\n",
              "    .dataframe thead th {\n",
              "        text-align: right;\n",
              "    }\n",
              "</style>\n",
              "<table border=\"1\" class=\"dataframe\">\n",
              "  <thead>\n",
              "    <tr style=\"text-align: right;\">\n",
              "      <th></th>\n",
              "      <th>Rainfall</th>\n",
              "      <th>Year</th>\n",
              "    </tr>\n",
              "  </thead>\n",
              "  <tbody>\n",
              "    <tr>\n",
              "      <th>count</th>\n",
              "      <td>2760.000000</td>\n",
              "      <td>2760.000000</td>\n",
              "    </tr>\n",
              "    <tr>\n",
              "      <th>mean</th>\n",
              "      <td>6.102753</td>\n",
              "      <td>2014.500000</td>\n",
              "    </tr>\n",
              "    <tr>\n",
              "      <th>std</th>\n",
              "      <td>5.813051</td>\n",
              "      <td>2.872802</td>\n",
              "    </tr>\n",
              "    <tr>\n",
              "      <th>min</th>\n",
              "      <td>0.000000</td>\n",
              "      <td>2010.000000</td>\n",
              "    </tr>\n",
              "    <tr>\n",
              "      <th>25%</th>\n",
              "      <td>0.634954</td>\n",
              "      <td>2012.000000</td>\n",
              "    </tr>\n",
              "    <tr>\n",
              "      <th>50%</th>\n",
              "      <td>4.725356</td>\n",
              "      <td>2014.500000</td>\n",
              "    </tr>\n",
              "    <tr>\n",
              "      <th>75%</th>\n",
              "      <td>10.129935</td>\n",
              "      <td>2017.000000</td>\n",
              "    </tr>\n",
              "    <tr>\n",
              "      <th>max</th>\n",
              "      <td>27.128330</td>\n",
              "      <td>2019.000000</td>\n",
              "    </tr>\n",
              "  </tbody>\n",
              "</table>\n",
              "</div>"
            ],
            "text/plain": [
              "          Rainfall         Year\n",
              "count  2760.000000  2760.000000\n",
              "mean      6.102753  2014.500000\n",
              "std       5.813051     2.872802\n",
              "min       0.000000  2010.000000\n",
              "25%       0.634954  2012.000000\n",
              "50%       4.725356  2014.500000\n",
              "75%      10.129935  2017.000000\n",
              "max      27.128330  2019.000000"
            ]
          },
          "execution_count": 1492,
          "metadata": {},
          "output_type": "execute_result"
        }
      ],
      "source": [
        "rainfall_data.describe()"
      ]
    },
    {
      "cell_type": "code",
      "execution_count": 1493,
      "metadata": {
        "colab": {
          "base_uri": "https://localhost:8080/"
        },
        "id": "Pcn0wAV9rNYq",
        "outputId": "2364b7c0-19f6-467d-820d-3d3c7d8931c0"
      },
      "outputs": [
        {
          "data": {
            "text/plain": [
              "46"
            ]
          },
          "execution_count": 1493,
          "metadata": {},
          "output_type": "execute_result"
        }
      ],
      "source": [
        "# Number of disctricts\n",
        "len(rainfall_data['Area'].unique())"
      ]
    },
    {
      "cell_type": "code",
      "execution_count": 1494,
      "metadata": {
        "colab": {
          "base_uri": "https://localhost:8080/"
        },
        "id": "bJj-REL_rWyA",
        "outputId": "704882da-4685-433f-ec01-bed94716108c"
      },
      "outputs": [
        {
          "data": {
            "text/plain": [
              "10"
            ]
          },
          "execution_count": 1494,
          "metadata": {},
          "output_type": "execute_result"
        }
      ],
      "source": [
        "# Number of years (1901 - 2016)\n",
        "len(rainfall_data['Year'].unique())"
      ]
    },
    {
      "cell_type": "code",
      "execution_count": 1495,
      "metadata": {
        "colab": {
          "base_uri": "https://localhost:8080/",
          "height": 0
        },
        "id": "50c0_t6RpgpW",
        "outputId": "23fd853f-0098-4a77-a437-c42434b6b6ef"
      },
      "outputs": [
        {
          "data": {
            "text/html": [
              "<div>\n",
              "<style scoped>\n",
              "    .dataframe tbody tr th:only-of-type {\n",
              "        vertical-align: middle;\n",
              "    }\n",
              "\n",
              "    .dataframe tbody tr th {\n",
              "        vertical-align: top;\n",
              "    }\n",
              "\n",
              "    .dataframe thead th {\n",
              "        text-align: right;\n",
              "    }\n",
              "</style>\n",
              "<table border=\"1\" class=\"dataframe\">\n",
              "  <thead>\n",
              "    <tr style=\"text-align: right;\">\n",
              "      <th></th>\n",
              "      <th>Rainfall</th>\n",
              "      <th>Year</th>\n",
              "      <th>Element</th>\n",
              "      <th>Area</th>\n",
              "    </tr>\n",
              "  </thead>\n",
              "  <tbody>\n",
              "    <tr>\n",
              "      <th>0</th>\n",
              "      <td>3.680000</td>\n",
              "      <td>2010</td>\n",
              "      <td>JUN</td>\n",
              "      <td>Anuppur</td>\n",
              "    </tr>\n",
              "    <tr>\n",
              "      <th>1</th>\n",
              "      <td>13.399120</td>\n",
              "      <td>2010</td>\n",
              "      <td>JUL</td>\n",
              "      <td>Anuppur</td>\n",
              "    </tr>\n",
              "    <tr>\n",
              "      <th>2</th>\n",
              "      <td>9.782032</td>\n",
              "      <td>2010</td>\n",
              "      <td>AUG</td>\n",
              "      <td>Anuppur</td>\n",
              "    </tr>\n",
              "    <tr>\n",
              "      <th>3</th>\n",
              "      <td>8.332526</td>\n",
              "      <td>2010</td>\n",
              "      <td>SEP</td>\n",
              "      <td>Anuppur</td>\n",
              "    </tr>\n",
              "    <tr>\n",
              "      <th>4</th>\n",
              "      <td>1.451772</td>\n",
              "      <td>2010</td>\n",
              "      <td>OCT</td>\n",
              "      <td>Anuppur</td>\n",
              "    </tr>\n",
              "    <tr>\n",
              "      <th>5</th>\n",
              "      <td>0.177238</td>\n",
              "      <td>2010</td>\n",
              "      <td>NOV</td>\n",
              "      <td>Anuppur</td>\n",
              "    </tr>\n",
              "  </tbody>\n",
              "</table>\n",
              "</div>"
            ],
            "text/plain": [
              "    Rainfall  Year Element     Area\n",
              "0   3.680000  2010     JUN  Anuppur\n",
              "1  13.399120  2010     JUL  Anuppur\n",
              "2   9.782032  2010     AUG  Anuppur\n",
              "3   8.332526  2010     SEP  Anuppur\n",
              "4   1.451772  2010     OCT  Anuppur\n",
              "5   0.177238  2010     NOV  Anuppur"
            ]
          },
          "execution_count": 1495,
          "metadata": {},
          "output_type": "execute_result"
        }
      ],
      "source": [
        "# 6 months from Anuppur\n",
        "rainfall_data.head(6)"
      ]
    },
    {
      "cell_type": "code",
      "execution_count": 1496,
      "metadata": {
        "colab": {
          "base_uri": "https://localhost:8080/",
          "height": 0
        },
        "id": "drkDoVbkjFaJ",
        "outputId": "b8c96258-3279-46a2-fbbb-f10be322ea89"
      },
      "outputs": [
        {
          "data": {
            "text/html": [
              "<div>\n",
              "<style scoped>\n",
              "    .dataframe tbody tr th:only-of-type {\n",
              "        vertical-align: middle;\n",
              "    }\n",
              "\n",
              "    .dataframe tbody tr th {\n",
              "        vertical-align: top;\n",
              "    }\n",
              "\n",
              "    .dataframe thead th {\n",
              "        text-align: right;\n",
              "    }\n",
              "</style>\n",
              "<table border=\"1\" class=\"dataframe\">\n",
              "  <thead>\n",
              "    <tr style=\"text-align: right;\">\n",
              "      <th></th>\n",
              "      <th>Year</th>\n",
              "      <th>Area</th>\n",
              "      <th>Element</th>\n",
              "      <th>Rainfall</th>\n",
              "    </tr>\n",
              "  </thead>\n",
              "  <tbody>\n",
              "    <tr>\n",
              "      <th>0</th>\n",
              "      <td>2010</td>\n",
              "      <td>Anuppur</td>\n",
              "      <td>AUG</td>\n",
              "      <td>9.782032</td>\n",
              "    </tr>\n",
              "    <tr>\n",
              "      <th>1</th>\n",
              "      <td>2010</td>\n",
              "      <td>Anuppur</td>\n",
              "      <td>JUL</td>\n",
              "      <td>13.399120</td>\n",
              "    </tr>\n",
              "    <tr>\n",
              "      <th>2</th>\n",
              "      <td>2010</td>\n",
              "      <td>Anuppur</td>\n",
              "      <td>JUN</td>\n",
              "      <td>3.680000</td>\n",
              "    </tr>\n",
              "    <tr>\n",
              "      <th>3</th>\n",
              "      <td>2010</td>\n",
              "      <td>Anuppur</td>\n",
              "      <td>NOV</td>\n",
              "      <td>0.177238</td>\n",
              "    </tr>\n",
              "    <tr>\n",
              "      <th>4</th>\n",
              "      <td>2010</td>\n",
              "      <td>Anuppur</td>\n",
              "      <td>OCT</td>\n",
              "      <td>1.451772</td>\n",
              "    </tr>\n",
              "    <tr>\n",
              "      <th>...</th>\n",
              "      <td>...</td>\n",
              "      <td>...</td>\n",
              "      <td>...</td>\n",
              "      <td>...</td>\n",
              "    </tr>\n",
              "    <tr>\n",
              "      <th>2755</th>\n",
              "      <td>2019</td>\n",
              "      <td>Vidisha</td>\n",
              "      <td>JUL</td>\n",
              "      <td>14.133820</td>\n",
              "    </tr>\n",
              "    <tr>\n",
              "      <th>2756</th>\n",
              "      <td>2019</td>\n",
              "      <td>Vidisha</td>\n",
              "      <td>JUN</td>\n",
              "      <td>2.978857</td>\n",
              "    </tr>\n",
              "    <tr>\n",
              "      <th>2757</th>\n",
              "      <td>2019</td>\n",
              "      <td>Vidisha</td>\n",
              "      <td>NOV</td>\n",
              "      <td>0.218000</td>\n",
              "    </tr>\n",
              "    <tr>\n",
              "      <th>2758</th>\n",
              "      <td>2019</td>\n",
              "      <td>Vidisha</td>\n",
              "      <td>OCT</td>\n",
              "      <td>1.074892</td>\n",
              "    </tr>\n",
              "    <tr>\n",
              "      <th>2759</th>\n",
              "      <td>2019</td>\n",
              "      <td>Vidisha</td>\n",
              "      <td>SEP</td>\n",
              "      <td>20.979780</td>\n",
              "    </tr>\n",
              "  </tbody>\n",
              "</table>\n",
              "<p>2760 rows × 4 columns</p>\n",
              "</div>"
            ],
            "text/plain": [
              "      Year     Area Element   Rainfall\n",
              "0     2010  Anuppur     AUG   9.782032\n",
              "1     2010  Anuppur     JUL  13.399120\n",
              "2     2010  Anuppur     JUN   3.680000\n",
              "3     2010  Anuppur     NOV   0.177238\n",
              "4     2010  Anuppur     OCT   1.451772\n",
              "...    ...      ...     ...        ...\n",
              "2755  2019  Vidisha     JUL  14.133820\n",
              "2756  2019  Vidisha     JUN   2.978857\n",
              "2757  2019  Vidisha     NOV   0.218000\n",
              "2758  2019  Vidisha     OCT   1.074892\n",
              "2759  2019  Vidisha     SEP  20.979780\n",
              "\n",
              "[2760 rows x 4 columns]"
            ]
          },
          "execution_count": 1496,
          "metadata": {},
          "output_type": "execute_result"
        }
      ],
      "source": [
        "# Rain data in years for each Area\n",
        "rainfall_df = rainfall_data.groupby(['Year', 'Area','Element'], as_index=False, axis=0).sum()\n",
        "rainfall_df"
      ]
    },
    {
      "cell_type": "markdown",
      "metadata": {
        "id": "I_viM345p0qr"
      },
      "source": [
        "## Temperature data"
      ]
    },
    {
      "cell_type": "code",
      "execution_count": 1497,
      "metadata": {
        "colab": {
          "base_uri": "https://localhost:8080/",
          "height": 0
        },
        "id": "3y8MO8ly7uUo",
        "outputId": "e76c7926-44d7-44ec-f4c2-2e66bf053fd8"
      },
      "outputs": [
        {
          "data": {
            "text/html": [
              "<div>\n",
              "<style scoped>\n",
              "    .dataframe tbody tr th:only-of-type {\n",
              "        vertical-align: middle;\n",
              "    }\n",
              "\n",
              "    .dataframe tbody tr th {\n",
              "        vertical-align: top;\n",
              "    }\n",
              "\n",
              "    .dataframe thead th {\n",
              "        text-align: right;\n",
              "    }\n",
              "</style>\n",
              "<table border=\"1\" class=\"dataframe\">\n",
              "  <thead>\n",
              "    <tr style=\"text-align: right;\">\n",
              "      <th></th>\n",
              "      <th>Temperature - (Celsius)</th>\n",
              "      <th>Year</th>\n",
              "      <th>Element</th>\n",
              "      <th>Area</th>\n",
              "    </tr>\n",
              "  </thead>\n",
              "  <tbody>\n",
              "    <tr>\n",
              "      <th>0</th>\n",
              "      <td>43.0467</td>\n",
              "      <td>2010</td>\n",
              "      <td>JUN</td>\n",
              "      <td>Anuppur</td>\n",
              "    </tr>\n",
              "    <tr>\n",
              "      <th>1</th>\n",
              "      <td>35.1668</td>\n",
              "      <td>2010</td>\n",
              "      <td>JUL</td>\n",
              "      <td>Anuppur</td>\n",
              "    </tr>\n",
              "    <tr>\n",
              "      <th>2</th>\n",
              "      <td>30.3092</td>\n",
              "      <td>2010</td>\n",
              "      <td>AUG</td>\n",
              "      <td>Anuppur</td>\n",
              "    </tr>\n",
              "    <tr>\n",
              "      <th>3</th>\n",
              "      <td>29.4275</td>\n",
              "      <td>2010</td>\n",
              "      <td>SEP</td>\n",
              "      <td>Anuppur</td>\n",
              "    </tr>\n",
              "    <tr>\n",
              "      <th>4</th>\n",
              "      <td>30.0325</td>\n",
              "      <td>2010</td>\n",
              "      <td>OCT</td>\n",
              "      <td>Anuppur</td>\n",
              "    </tr>\n",
              "    <tr>\n",
              "      <th>...</th>\n",
              "      <td>...</td>\n",
              "      <td>...</td>\n",
              "      <td>...</td>\n",
              "      <td>...</td>\n",
              "    </tr>\n",
              "    <tr>\n",
              "      <th>2755</th>\n",
              "      <td>36.7942</td>\n",
              "      <td>2019</td>\n",
              "      <td>JUL</td>\n",
              "      <td>Vidisha</td>\n",
              "    </tr>\n",
              "    <tr>\n",
              "      <th>2756</th>\n",
              "      <td>26.9944</td>\n",
              "      <td>2019</td>\n",
              "      <td>AUG</td>\n",
              "      <td>Vidisha</td>\n",
              "    </tr>\n",
              "    <tr>\n",
              "      <th>2757</th>\n",
              "      <td>28.7813</td>\n",
              "      <td>2019</td>\n",
              "      <td>SEP</td>\n",
              "      <td>Vidisha</td>\n",
              "    </tr>\n",
              "    <tr>\n",
              "      <th>2758</th>\n",
              "      <td>31.8626</td>\n",
              "      <td>2019</td>\n",
              "      <td>OCT</td>\n",
              "      <td>Vidisha</td>\n",
              "    </tr>\n",
              "    <tr>\n",
              "      <th>2759</th>\n",
              "      <td>32.3157</td>\n",
              "      <td>2019</td>\n",
              "      <td>NOV</td>\n",
              "      <td>Vidisha</td>\n",
              "    </tr>\n",
              "  </tbody>\n",
              "</table>\n",
              "<p>2760 rows × 4 columns</p>\n",
              "</div>"
            ],
            "text/plain": [
              "      Temperature - (Celsius)  Year Element     Area\n",
              "0                     43.0467  2010     JUN  Anuppur\n",
              "1                     35.1668  2010     JUL  Anuppur\n",
              "2                     30.3092  2010     AUG  Anuppur\n",
              "3                     29.4275  2010     SEP  Anuppur\n",
              "4                     30.0325  2010     OCT  Anuppur\n",
              "...                       ...   ...     ...      ...\n",
              "2755                  36.7942  2019     JUL  Vidisha\n",
              "2756                  26.9944  2019     AUG  Vidisha\n",
              "2757                  28.7813  2019     SEP  Vidisha\n",
              "2758                  31.8626  2019     OCT  Vidisha\n",
              "2759                  32.3157  2019     NOV  Vidisha\n",
              "\n",
              "[2760 rows x 4 columns]"
            ]
          },
          "execution_count": 1497,
          "metadata": {},
          "output_type": "execute_result"
        }
      ],
      "source": [
        "temperature_data"
      ]
    },
    {
      "cell_type": "code",
      "execution_count": 1498,
      "metadata": {
        "colab": {
          "base_uri": "https://localhost:8080/"
        },
        "id": "JpBCszaQdRAf",
        "outputId": "e618dfb2-0373-40b6-9c31-3125c530db32"
      },
      "outputs": [
        {
          "name": "stdout",
          "output_type": "stream",
          "text": [
            "<class 'pandas.core.frame.DataFrame'>\n",
            "RangeIndex: 2760 entries, 0 to 2759\n",
            "Data columns (total 4 columns):\n",
            " #   Column                   Non-Null Count  Dtype  \n",
            "---  ------                   --------------  -----  \n",
            " 0   Temperature - (Celsius)  2760 non-null   float64\n",
            " 1   Year                     2760 non-null   int64  \n",
            " 2   Element                  2760 non-null   object \n",
            " 3   Area                     2760 non-null   object \n",
            "dtypes: float64(1), int64(1), object(2)\n",
            "memory usage: 86.4+ KB\n"
          ]
        }
      ],
      "source": [
        "temperature_data.info()"
      ]
    },
    {
      "cell_type": "code",
      "execution_count": 1499,
      "metadata": {
        "colab": {
          "base_uri": "https://localhost:8080/",
          "height": 0
        },
        "id": "rVbDN0N7tvYU",
        "outputId": "62237c04-bc28-4f9b-fdeb-8445db2a6a3d"
      },
      "outputs": [
        {
          "data": {
            "text/html": [
              "<div>\n",
              "<style scoped>\n",
              "    .dataframe tbody tr th:only-of-type {\n",
              "        vertical-align: middle;\n",
              "    }\n",
              "\n",
              "    .dataframe tbody tr th {\n",
              "        vertical-align: top;\n",
              "    }\n",
              "\n",
              "    .dataframe thead th {\n",
              "        text-align: right;\n",
              "    }\n",
              "</style>\n",
              "<table border=\"1\" class=\"dataframe\">\n",
              "  <thead>\n",
              "    <tr style=\"text-align: right;\">\n",
              "      <th></th>\n",
              "      <th>Temperature - (Celsius)</th>\n",
              "      <th>Year</th>\n",
              "    </tr>\n",
              "  </thead>\n",
              "  <tbody>\n",
              "    <tr>\n",
              "      <th>count</th>\n",
              "      <td>2760.000000</td>\n",
              "      <td>2760.000000</td>\n",
              "    </tr>\n",
              "    <tr>\n",
              "      <th>mean</th>\n",
              "      <td>33.821906</td>\n",
              "      <td>2014.500000</td>\n",
              "    </tr>\n",
              "    <tr>\n",
              "      <th>std</th>\n",
              "      <td>5.157327</td>\n",
              "      <td>2.872802</td>\n",
              "    </tr>\n",
              "    <tr>\n",
              "      <th>min</th>\n",
              "      <td>7.005000</td>\n",
              "      <td>2010.000000</td>\n",
              "    </tr>\n",
              "    <tr>\n",
              "      <th>25%</th>\n",
              "      <td>30.005100</td>\n",
              "      <td>2012.000000</td>\n",
              "    </tr>\n",
              "    <tr>\n",
              "      <th>50%</th>\n",
              "      <td>32.498250</td>\n",
              "      <td>2014.500000</td>\n",
              "    </tr>\n",
              "    <tr>\n",
              "      <th>75%</th>\n",
              "      <td>36.793150</td>\n",
              "      <td>2017.000000</td>\n",
              "    </tr>\n",
              "    <tr>\n",
              "      <th>max</th>\n",
              "      <td>47.872600</td>\n",
              "      <td>2019.000000</td>\n",
              "    </tr>\n",
              "  </tbody>\n",
              "</table>\n",
              "</div>"
            ],
            "text/plain": [
              "       Temperature - (Celsius)         Year\n",
              "count              2760.000000  2760.000000\n",
              "mean                 33.821906  2014.500000\n",
              "std                   5.157327     2.872802\n",
              "min                   7.005000  2010.000000\n",
              "25%                  30.005100  2012.000000\n",
              "50%                  32.498250  2014.500000\n",
              "75%                  36.793150  2017.000000\n",
              "max                  47.872600  2019.000000"
            ]
          },
          "execution_count": 1499,
          "metadata": {},
          "output_type": "execute_result"
        }
      ],
      "source": [
        "temperature_data.describe()"
      ]
    },
    {
      "cell_type": "code",
      "execution_count": 1500,
      "metadata": {
        "colab": {
          "base_uri": "https://localhost:8080/"
        },
        "id": "BRtnmE4ksAPb",
        "outputId": "ec78fc64-4056-4b39-e36d-34e43ab3a2b4"
      },
      "outputs": [
        {
          "data": {
            "text/plain": [
              "46"
            ]
          },
          "execution_count": 1500,
          "metadata": {},
          "output_type": "execute_result"
        }
      ],
      "source": [
        "# Number of disctricts\n",
        "len(temperature_data['Area'].unique())"
      ]
    },
    {
      "cell_type": "code",
      "execution_count": 1501,
      "metadata": {
        "colab": {
          "base_uri": "https://localhost:8080/"
        },
        "id": "NaRGRGfDsC9z",
        "outputId": "895ca639-3b5e-44ee-9fef-3853d8f9c8a6"
      },
      "outputs": [
        {
          "data": {
            "text/plain": [
              "10"
            ]
          },
          "execution_count": 1501,
          "metadata": {},
          "output_type": "execute_result"
        }
      ],
      "source": [
        "# Number of years (2010 - 2019)\n",
        "len(temperature_data['Year'].unique())"
      ]
    },
    {
      "cell_type": "code",
      "execution_count": 1502,
      "metadata": {
        "colab": {
          "base_uri": "https://localhost:8080/",
          "height": 0
        },
        "id": "85_PPt6cs1as",
        "outputId": "3c09a9db-c660-4be1-f8b5-b31e76e00a89"
      },
      "outputs": [
        {
          "data": {
            "text/html": [
              "<div>\n",
              "<style scoped>\n",
              "    .dataframe tbody tr th:only-of-type {\n",
              "        vertical-align: middle;\n",
              "    }\n",
              "\n",
              "    .dataframe tbody tr th {\n",
              "        vertical-align: top;\n",
              "    }\n",
              "\n",
              "    .dataframe thead th {\n",
              "        text-align: right;\n",
              "    }\n",
              "</style>\n",
              "<table border=\"1\" class=\"dataframe\">\n",
              "  <thead>\n",
              "    <tr style=\"text-align: right;\">\n",
              "      <th></th>\n",
              "      <th>Temperature - (Celsius)</th>\n",
              "      <th>Year</th>\n",
              "      <th>Element</th>\n",
              "      <th>Area</th>\n",
              "    </tr>\n",
              "  </thead>\n",
              "  <tbody>\n",
              "    <tr>\n",
              "      <th>0</th>\n",
              "      <td>43.0467</td>\n",
              "      <td>2010</td>\n",
              "      <td>JUN</td>\n",
              "      <td>Anuppur</td>\n",
              "    </tr>\n",
              "    <tr>\n",
              "      <th>1</th>\n",
              "      <td>35.1668</td>\n",
              "      <td>2010</td>\n",
              "      <td>JUL</td>\n",
              "      <td>Anuppur</td>\n",
              "    </tr>\n",
              "    <tr>\n",
              "      <th>2</th>\n",
              "      <td>30.3092</td>\n",
              "      <td>2010</td>\n",
              "      <td>AUG</td>\n",
              "      <td>Anuppur</td>\n",
              "    </tr>\n",
              "    <tr>\n",
              "      <th>3</th>\n",
              "      <td>29.4275</td>\n",
              "      <td>2010</td>\n",
              "      <td>SEP</td>\n",
              "      <td>Anuppur</td>\n",
              "    </tr>\n",
              "    <tr>\n",
              "      <th>4</th>\n",
              "      <td>30.0325</td>\n",
              "      <td>2010</td>\n",
              "      <td>OCT</td>\n",
              "      <td>Anuppur</td>\n",
              "    </tr>\n",
              "    <tr>\n",
              "      <th>5</th>\n",
              "      <td>29.6325</td>\n",
              "      <td>2010</td>\n",
              "      <td>NOV</td>\n",
              "      <td>Anuppur</td>\n",
              "    </tr>\n",
              "  </tbody>\n",
              "</table>\n",
              "</div>"
            ],
            "text/plain": [
              "   Temperature - (Celsius)  Year Element     Area\n",
              "0                  43.0467  2010     JUN  Anuppur\n",
              "1                  35.1668  2010     JUL  Anuppur\n",
              "2                  30.3092  2010     AUG  Anuppur\n",
              "3                  29.4275  2010     SEP  Anuppur\n",
              "4                  30.0325  2010     OCT  Anuppur\n",
              "5                  29.6325  2010     NOV  Anuppur"
            ]
          },
          "execution_count": 1502,
          "metadata": {},
          "output_type": "execute_result"
        }
      ],
      "source": [
        "# 6 months from Anuppur\n",
        "temperature_data.head(6)"
      ]
    },
    {
      "cell_type": "code",
      "execution_count": 1503,
      "metadata": {
        "colab": {
          "base_uri": "https://localhost:8080/",
          "height": 0
        },
        "id": "dunMxVu5sF1E",
        "outputId": "889a7a1b-1748-41eb-c3cf-bba22b5a6d24"
      },
      "outputs": [
        {
          "data": {
            "text/html": [
              "<div>\n",
              "<style scoped>\n",
              "    .dataframe tbody tr th:only-of-type {\n",
              "        vertical-align: middle;\n",
              "    }\n",
              "\n",
              "    .dataframe tbody tr th {\n",
              "        vertical-align: top;\n",
              "    }\n",
              "\n",
              "    .dataframe thead th {\n",
              "        text-align: right;\n",
              "    }\n",
              "</style>\n",
              "<table border=\"1\" class=\"dataframe\">\n",
              "  <thead>\n",
              "    <tr style=\"text-align: right;\">\n",
              "      <th></th>\n",
              "      <th>Year</th>\n",
              "      <th>Area</th>\n",
              "      <th>Element</th>\n",
              "      <th>Temperature - (Celsius)</th>\n",
              "    </tr>\n",
              "  </thead>\n",
              "  <tbody>\n",
              "    <tr>\n",
              "      <th>0</th>\n",
              "      <td>2010</td>\n",
              "      <td>Anuppur</td>\n",
              "      <td>AUG</td>\n",
              "      <td>30.3092</td>\n",
              "    </tr>\n",
              "    <tr>\n",
              "      <th>1</th>\n",
              "      <td>2010</td>\n",
              "      <td>Anuppur</td>\n",
              "      <td>JUL</td>\n",
              "      <td>35.1668</td>\n",
              "    </tr>\n",
              "    <tr>\n",
              "      <th>2</th>\n",
              "      <td>2010</td>\n",
              "      <td>Anuppur</td>\n",
              "      <td>JUN</td>\n",
              "      <td>43.0467</td>\n",
              "    </tr>\n",
              "    <tr>\n",
              "      <th>3</th>\n",
              "      <td>2010</td>\n",
              "      <td>Anuppur</td>\n",
              "      <td>NOV</td>\n",
              "      <td>29.6325</td>\n",
              "    </tr>\n",
              "    <tr>\n",
              "      <th>4</th>\n",
              "      <td>2010</td>\n",
              "      <td>Anuppur</td>\n",
              "      <td>OCT</td>\n",
              "      <td>30.0325</td>\n",
              "    </tr>\n",
              "    <tr>\n",
              "      <th>...</th>\n",
              "      <td>...</td>\n",
              "      <td>...</td>\n",
              "      <td>...</td>\n",
              "      <td>...</td>\n",
              "    </tr>\n",
              "    <tr>\n",
              "      <th>2755</th>\n",
              "      <td>2019</td>\n",
              "      <td>Vidisha</td>\n",
              "      <td>JUL</td>\n",
              "      <td>36.7942</td>\n",
              "    </tr>\n",
              "    <tr>\n",
              "      <th>2756</th>\n",
              "      <td>2019</td>\n",
              "      <td>Vidisha</td>\n",
              "      <td>JUN</td>\n",
              "      <td>47.3017</td>\n",
              "    </tr>\n",
              "    <tr>\n",
              "      <th>2757</th>\n",
              "      <td>2019</td>\n",
              "      <td>Vidisha</td>\n",
              "      <td>NOV</td>\n",
              "      <td>32.3157</td>\n",
              "    </tr>\n",
              "    <tr>\n",
              "      <th>2758</th>\n",
              "      <td>2019</td>\n",
              "      <td>Vidisha</td>\n",
              "      <td>OCT</td>\n",
              "      <td>31.8626</td>\n",
              "    </tr>\n",
              "    <tr>\n",
              "      <th>2759</th>\n",
              "      <td>2019</td>\n",
              "      <td>Vidisha</td>\n",
              "      <td>SEP</td>\n",
              "      <td>28.7813</td>\n",
              "    </tr>\n",
              "  </tbody>\n",
              "</table>\n",
              "<p>2760 rows × 4 columns</p>\n",
              "</div>"
            ],
            "text/plain": [
              "      Year     Area Element  Temperature - (Celsius)\n",
              "0     2010  Anuppur     AUG                  30.3092\n",
              "1     2010  Anuppur     JUL                  35.1668\n",
              "2     2010  Anuppur     JUN                  43.0467\n",
              "3     2010  Anuppur     NOV                  29.6325\n",
              "4     2010  Anuppur     OCT                  30.0325\n",
              "...    ...      ...     ...                      ...\n",
              "2755  2019  Vidisha     JUL                  36.7942\n",
              "2756  2019  Vidisha     JUN                  47.3017\n",
              "2757  2019  Vidisha     NOV                  32.3157\n",
              "2758  2019  Vidisha     OCT                  31.8626\n",
              "2759  2019  Vidisha     SEP                  28.7813\n",
              "\n",
              "[2760 rows x 4 columns]"
            ]
          },
          "execution_count": 1503,
          "metadata": {},
          "output_type": "execute_result"
        }
      ],
      "source": [
        "# Average temperature data in years for each area\n",
        "temperature_df =temperature_data.groupby(['Year', 'Area','Element'], as_index=False, axis=0).mean()\n",
        "temperature_df"
      ]
    },
    {
      "cell_type": "markdown",
      "metadata": {
        "id": "bfkBFYYk0id8"
      },
      "source": [
        "\n",
        "## Yield data"
      ]
    },
    {
      "cell_type": "code",
      "execution_count": 1504,
      "metadata": {
        "colab": {
          "base_uri": "https://localhost:8080/",
          "height": 419
        },
        "id": "6nx-zeo1z12V",
        "outputId": "6789c8ab-61c6-453e-cdfe-b2abb6608130"
      },
      "outputs": [
        {
          "data": {
            "text/html": [
              "<div>\n",
              "<style scoped>\n",
              "    .dataframe tbody tr th:only-of-type {\n",
              "        vertical-align: middle;\n",
              "    }\n",
              "\n",
              "    .dataframe tbody tr th {\n",
              "        vertical-align: top;\n",
              "    }\n",
              "\n",
              "    .dataframe thead th {\n",
              "        text-align: right;\n",
              "    }\n",
              "</style>\n",
              "<table border=\"1\" class=\"dataframe\">\n",
              "  <thead>\n",
              "    <tr style=\"text-align: right;\">\n",
              "      <th></th>\n",
              "      <th>Domain</th>\n",
              "      <th>Area</th>\n",
              "      <th>Element</th>\n",
              "      <th>Item</th>\n",
              "      <th>Year</th>\n",
              "      <th>Unit</th>\n",
              "      <th>Value</th>\n",
              "    </tr>\n",
              "  </thead>\n",
              "  <tbody>\n",
              "    <tr>\n",
              "      <th>0</th>\n",
              "      <td>Crops</td>\n",
              "      <td>Anuppur</td>\n",
              "      <td>Yield</td>\n",
              "      <td>Soybean</td>\n",
              "      <td>2010</td>\n",
              "      <td>hg/ha</td>\n",
              "      <td>4023.14</td>\n",
              "    </tr>\n",
              "    <tr>\n",
              "      <th>1</th>\n",
              "      <td>Crops</td>\n",
              "      <td>Ashoknagar</td>\n",
              "      <td>Yield</td>\n",
              "      <td>Soybean</td>\n",
              "      <td>2010</td>\n",
              "      <td>hg/ha</td>\n",
              "      <td>12807.08</td>\n",
              "    </tr>\n",
              "    <tr>\n",
              "      <th>2</th>\n",
              "      <td>Crops</td>\n",
              "      <td>Balaghat</td>\n",
              "      <td>Yield</td>\n",
              "      <td>Soybean</td>\n",
              "      <td>2010</td>\n",
              "      <td>hg/ha</td>\n",
              "      <td>17419.35</td>\n",
              "    </tr>\n",
              "    <tr>\n",
              "      <th>3</th>\n",
              "      <td>Crops</td>\n",
              "      <td>Barwani</td>\n",
              "      <td>Yield</td>\n",
              "      <td>Soybean</td>\n",
              "      <td>2010</td>\n",
              "      <td>hg/ha</td>\n",
              "      <td>2869.52</td>\n",
              "    </tr>\n",
              "    <tr>\n",
              "      <th>4</th>\n",
              "      <td>Crops</td>\n",
              "      <td>Betul</td>\n",
              "      <td>Yield</td>\n",
              "      <td>Soybean</td>\n",
              "      <td>2010</td>\n",
              "      <td>hg/ha</td>\n",
              "      <td>10958.32</td>\n",
              "    </tr>\n",
              "    <tr>\n",
              "      <th>...</th>\n",
              "      <td>...</td>\n",
              "      <td>...</td>\n",
              "      <td>...</td>\n",
              "      <td>...</td>\n",
              "      <td>...</td>\n",
              "      <td>...</td>\n",
              "      <td>...</td>\n",
              "    </tr>\n",
              "    <tr>\n",
              "      <th>455</th>\n",
              "      <td>Crops</td>\n",
              "      <td>Sidhi</td>\n",
              "      <td>Yield</td>\n",
              "      <td>Soybean</td>\n",
              "      <td>2019</td>\n",
              "      <td>hg/ha</td>\n",
              "      <td>3636.36</td>\n",
              "    </tr>\n",
              "    <tr>\n",
              "      <th>456</th>\n",
              "      <td>Crops</td>\n",
              "      <td>Tikamgarh</td>\n",
              "      <td>Yield</td>\n",
              "      <td>Soybean</td>\n",
              "      <td>2019</td>\n",
              "      <td>hg/ha</td>\n",
              "      <td>4189.92</td>\n",
              "    </tr>\n",
              "    <tr>\n",
              "      <th>457</th>\n",
              "      <td>Crops</td>\n",
              "      <td>Ujjain</td>\n",
              "      <td>Yield</td>\n",
              "      <td>Soybean</td>\n",
              "      <td>2019</td>\n",
              "      <td>hg/ha</td>\n",
              "      <td>4660.01</td>\n",
              "    </tr>\n",
              "    <tr>\n",
              "      <th>458</th>\n",
              "      <td>Crops</td>\n",
              "      <td>Umaria</td>\n",
              "      <td>Yield</td>\n",
              "      <td>Soybean</td>\n",
              "      <td>2019</td>\n",
              "      <td>hg/ha</td>\n",
              "      <td>4932.89</td>\n",
              "    </tr>\n",
              "    <tr>\n",
              "      <th>459</th>\n",
              "      <td>Crops</td>\n",
              "      <td>Vidisha</td>\n",
              "      <td>Yield</td>\n",
              "      <td>Soybean</td>\n",
              "      <td>2019</td>\n",
              "      <td>hg/ha</td>\n",
              "      <td>5760.01</td>\n",
              "    </tr>\n",
              "  </tbody>\n",
              "</table>\n",
              "<p>460 rows × 7 columns</p>\n",
              "</div>"
            ],
            "text/plain": [
              "    Domain        Area Element     Item  Year   Unit     Value\n",
              "0    Crops     Anuppur   Yield  Soybean  2010  hg/ha   4023.14\n",
              "1    Crops  Ashoknagar   Yield  Soybean  2010  hg/ha  12807.08\n",
              "2    Crops    Balaghat   Yield  Soybean  2010  hg/ha  17419.35\n",
              "3    Crops     Barwani   Yield  Soybean  2010  hg/ha   2869.52\n",
              "4    Crops       Betul   Yield  Soybean  2010  hg/ha  10958.32\n",
              "..     ...         ...     ...      ...   ...    ...       ...\n",
              "455  Crops       Sidhi   Yield  Soybean  2019  hg/ha   3636.36\n",
              "456  Crops   Tikamgarh   Yield  Soybean  2019  hg/ha   4189.92\n",
              "457  Crops      Ujjain   Yield  Soybean  2019  hg/ha   4660.01\n",
              "458  Crops      Umaria   Yield  Soybean  2019  hg/ha   4932.89\n",
              "459  Crops     Vidisha   Yield  Soybean  2019  hg/ha   5760.01\n",
              "\n",
              "[460 rows x 7 columns]"
            ]
          },
          "execution_count": 1504,
          "metadata": {},
          "output_type": "execute_result"
        }
      ],
      "source": [
        "yield_data"
      ]
    },
    {
      "cell_type": "code",
      "execution_count": 1505,
      "metadata": {
        "colab": {
          "base_uri": "https://localhost:8080/"
        },
        "id": "zR7YUI0sdj3m",
        "outputId": "29304397-884f-485d-ffd3-261d8a5dd750"
      },
      "outputs": [
        {
          "name": "stdout",
          "output_type": "stream",
          "text": [
            "<class 'pandas.core.frame.DataFrame'>\n",
            "RangeIndex: 460 entries, 0 to 459\n",
            "Data columns (total 7 columns):\n",
            " #   Column   Non-Null Count  Dtype  \n",
            "---  ------   --------------  -----  \n",
            " 0   Domain   460 non-null    object \n",
            " 1   Area     460 non-null    object \n",
            " 2   Element  460 non-null    object \n",
            " 3   Item     460 non-null    object \n",
            " 4   Year     460 non-null    int64  \n",
            " 5   Unit     460 non-null    object \n",
            " 6   Value    460 non-null    float64\n",
            "dtypes: float64(1), int64(1), object(5)\n",
            "memory usage: 25.3+ KB\n"
          ]
        }
      ],
      "source": [
        "yield_data.info()"
      ]
    },
    {
      "cell_type": "code",
      "execution_count": 1506,
      "metadata": {
        "colab": {
          "base_uri": "https://localhost:8080/",
          "height": 0
        },
        "id": "40WUy9afpI0L",
        "outputId": "4228c051-ceeb-4892-c83d-8dbedbd4bb3f"
      },
      "outputs": [
        {
          "data": {
            "text/html": [
              "<div>\n",
              "<style scoped>\n",
              "    .dataframe tbody tr th:only-of-type {\n",
              "        vertical-align: middle;\n",
              "    }\n",
              "\n",
              "    .dataframe tbody tr th {\n",
              "        vertical-align: top;\n",
              "    }\n",
              "\n",
              "    .dataframe thead th {\n",
              "        text-align: right;\n",
              "    }\n",
              "</style>\n",
              "<table border=\"1\" class=\"dataframe\">\n",
              "  <thead>\n",
              "    <tr style=\"text-align: right;\">\n",
              "      <th></th>\n",
              "      <th>Year</th>\n",
              "      <th>Value</th>\n",
              "    </tr>\n",
              "  </thead>\n",
              "  <tbody>\n",
              "    <tr>\n",
              "      <th>count</th>\n",
              "      <td>460.000000</td>\n",
              "      <td>460.000000</td>\n",
              "    </tr>\n",
              "    <tr>\n",
              "      <th>mean</th>\n",
              "      <td>2014.500000</td>\n",
              "      <td>9709.427196</td>\n",
              "    </tr>\n",
              "    <tr>\n",
              "      <th>std</th>\n",
              "      <td>2.875408</td>\n",
              "      <td>4051.492134</td>\n",
              "    </tr>\n",
              "    <tr>\n",
              "      <th>min</th>\n",
              "      <td>2010.000000</td>\n",
              "      <td>0.000000</td>\n",
              "    </tr>\n",
              "    <tr>\n",
              "      <th>25%</th>\n",
              "      <td>2012.000000</td>\n",
              "      <td>6612.902500</td>\n",
              "    </tr>\n",
              "    <tr>\n",
              "      <th>50%</th>\n",
              "      <td>2014.500000</td>\n",
              "      <td>9354.415000</td>\n",
              "    </tr>\n",
              "    <tr>\n",
              "      <th>75%</th>\n",
              "      <td>2017.000000</td>\n",
              "      <td>12727.270000</td>\n",
              "    </tr>\n",
              "    <tr>\n",
              "      <th>max</th>\n",
              "      <td>2019.000000</td>\n",
              "      <td>24885.150000</td>\n",
              "    </tr>\n",
              "  </tbody>\n",
              "</table>\n",
              "</div>"
            ],
            "text/plain": [
              "              Year         Value\n",
              "count   460.000000    460.000000\n",
              "mean   2014.500000   9709.427196\n",
              "std       2.875408   4051.492134\n",
              "min    2010.000000      0.000000\n",
              "25%    2012.000000   6612.902500\n",
              "50%    2014.500000   9354.415000\n",
              "75%    2017.000000  12727.270000\n",
              "max    2019.000000  24885.150000"
            ]
          },
          "execution_count": 1506,
          "metadata": {},
          "output_type": "execute_result"
        }
      ],
      "source": [
        "yield_data.describe()"
      ]
    },
    {
      "cell_type": "code",
      "execution_count": 1507,
      "metadata": {
        "colab": {
          "base_uri": "https://localhost:8080/"
        },
        "id": "-VNAUZncuF5j",
        "outputId": "c6dffd2a-5f26-4dfc-99ae-49cd09d391c5"
      },
      "outputs": [
        {
          "data": {
            "text/plain": [
              "46"
            ]
          },
          "execution_count": 1507,
          "metadata": {},
          "output_type": "execute_result"
        }
      ],
      "source": [
        "# Number of disctricts\n",
        "len(yield_data['Area'].unique())"
      ]
    },
    {
      "cell_type": "code",
      "execution_count": 1508,
      "metadata": {
        "colab": {
          "base_uri": "https://localhost:8080/"
        },
        "id": "35jAaXZcuMln",
        "outputId": "025e9272-3287-4280-8220-cc43fe33380a"
      },
      "outputs": [
        {
          "data": {
            "text/plain": [
              "10"
            ]
          },
          "execution_count": 1508,
          "metadata": {},
          "output_type": "execute_result"
        }
      ],
      "source": [
        "# Number of years (1961 - 2019)\n",
        "len(yield_data['Year'].unique())"
      ]
    },
    {
      "cell_type": "code",
      "execution_count": 1509,
      "metadata": {
        "colab": {
          "base_uri": "https://localhost:8080/",
          "height": 0
        },
        "id": "UL9BPJz2uxqv",
        "outputId": "e3af8d81-6dd3-4d23-cc39-7d91858ce7ce"
      },
      "outputs": [
        {
          "data": {
            "text/html": [
              "<div>\n",
              "<style scoped>\n",
              "    .dataframe tbody tr th:only-of-type {\n",
              "        vertical-align: middle;\n",
              "    }\n",
              "\n",
              "    .dataframe tbody tr th {\n",
              "        vertical-align: top;\n",
              "    }\n",
              "\n",
              "    .dataframe thead th {\n",
              "        text-align: right;\n",
              "    }\n",
              "</style>\n",
              "<table border=\"1\" class=\"dataframe\">\n",
              "  <thead>\n",
              "    <tr style=\"text-align: right;\">\n",
              "      <th></th>\n",
              "      <th>Area</th>\n",
              "      <th>Item</th>\n",
              "      <th>Year</th>\n",
              "      <th>Unit</th>\n",
              "      <th>Value</th>\n",
              "    </tr>\n",
              "  </thead>\n",
              "  <tbody>\n",
              "    <tr>\n",
              "      <th>0</th>\n",
              "      <td>Anuppur</td>\n",
              "      <td>Soybean</td>\n",
              "      <td>2010</td>\n",
              "      <td>hg/ha</td>\n",
              "      <td>4023.14</td>\n",
              "    </tr>\n",
              "    <tr>\n",
              "      <th>1</th>\n",
              "      <td>Ashoknagar</td>\n",
              "      <td>Soybean</td>\n",
              "      <td>2010</td>\n",
              "      <td>hg/ha</td>\n",
              "      <td>12807.08</td>\n",
              "    </tr>\n",
              "    <tr>\n",
              "      <th>2</th>\n",
              "      <td>Balaghat</td>\n",
              "      <td>Soybean</td>\n",
              "      <td>2010</td>\n",
              "      <td>hg/ha</td>\n",
              "      <td>17419.35</td>\n",
              "    </tr>\n",
              "    <tr>\n",
              "      <th>3</th>\n",
              "      <td>Barwani</td>\n",
              "      <td>Soybean</td>\n",
              "      <td>2010</td>\n",
              "      <td>hg/ha</td>\n",
              "      <td>2869.52</td>\n",
              "    </tr>\n",
              "    <tr>\n",
              "      <th>4</th>\n",
              "      <td>Betul</td>\n",
              "      <td>Soybean</td>\n",
              "      <td>2010</td>\n",
              "      <td>hg/ha</td>\n",
              "      <td>10958.32</td>\n",
              "    </tr>\n",
              "    <tr>\n",
              "      <th>...</th>\n",
              "      <td>...</td>\n",
              "      <td>...</td>\n",
              "      <td>...</td>\n",
              "      <td>...</td>\n",
              "      <td>...</td>\n",
              "    </tr>\n",
              "    <tr>\n",
              "      <th>455</th>\n",
              "      <td>Sidhi</td>\n",
              "      <td>Soybean</td>\n",
              "      <td>2019</td>\n",
              "      <td>hg/ha</td>\n",
              "      <td>3636.36</td>\n",
              "    </tr>\n",
              "    <tr>\n",
              "      <th>456</th>\n",
              "      <td>Tikamgarh</td>\n",
              "      <td>Soybean</td>\n",
              "      <td>2019</td>\n",
              "      <td>hg/ha</td>\n",
              "      <td>4189.92</td>\n",
              "    </tr>\n",
              "    <tr>\n",
              "      <th>457</th>\n",
              "      <td>Ujjain</td>\n",
              "      <td>Soybean</td>\n",
              "      <td>2019</td>\n",
              "      <td>hg/ha</td>\n",
              "      <td>4660.01</td>\n",
              "    </tr>\n",
              "    <tr>\n",
              "      <th>458</th>\n",
              "      <td>Umaria</td>\n",
              "      <td>Soybean</td>\n",
              "      <td>2019</td>\n",
              "      <td>hg/ha</td>\n",
              "      <td>4932.89</td>\n",
              "    </tr>\n",
              "    <tr>\n",
              "      <th>459</th>\n",
              "      <td>Vidisha</td>\n",
              "      <td>Soybean</td>\n",
              "      <td>2019</td>\n",
              "      <td>hg/ha</td>\n",
              "      <td>5760.01</td>\n",
              "    </tr>\n",
              "  </tbody>\n",
              "</table>\n",
              "<p>460 rows × 5 columns</p>\n",
              "</div>"
            ],
            "text/plain": [
              "           Area     Item  Year   Unit     Value\n",
              "0       Anuppur  Soybean  2010  hg/ha   4023.14\n",
              "1    Ashoknagar  Soybean  2010  hg/ha  12807.08\n",
              "2      Balaghat  Soybean  2010  hg/ha  17419.35\n",
              "3       Barwani  Soybean  2010  hg/ha   2869.52\n",
              "4         Betul  Soybean  2010  hg/ha  10958.32\n",
              "..          ...      ...   ...    ...       ...\n",
              "455       Sidhi  Soybean  2019  hg/ha   3636.36\n",
              "456   Tikamgarh  Soybean  2019  hg/ha   4189.92\n",
              "457      Ujjain  Soybean  2019  hg/ha   4660.01\n",
              "458      Umaria  Soybean  2019  hg/ha   4932.89\n",
              "459     Vidisha  Soybean  2019  hg/ha   5760.01\n",
              "\n",
              "[460 rows x 5 columns]"
            ]
          },
          "execution_count": 1509,
          "metadata": {},
          "output_type": "execute_result"
        }
      ],
      "source": [
        "# Remove unnecessary columns\n",
        "yield_df = yield_data.drop(['Domain', 'Element'], axis=1)\n",
        "yield_df"
      ]
    },
    {
      "cell_type": "markdown",
      "metadata": {
        "id": "zLMa9ocB7C9F"
      },
      "source": [
        "## Merging"
      ]
    },
    {
      "cell_type": "code",
      "execution_count": 1510,
      "metadata": {
        "id": "LYpPhQOe9JTf"
      },
      "outputs": [],
      "source": [
        "rainfall_df.rename({'Rainfall': 'Rainfall (cm)'}, axis=1, inplace=True)"
      ]
    },
    {
      "cell_type": "code",
      "execution_count": 1511,
      "metadata": {
        "id": "LIyrj1-s9k2s"
      },
      "outputs": [],
      "source": [
        "temperature_df.rename({'Temperature - (Celsius)': 'Temperature (Celsius)'}, axis=1, inplace=True)"
      ]
    },
    {
      "cell_type": "code",
      "execution_count": 1512,
      "metadata": {
        "id": "T-DVlKrG9zeU"
      },
      "outputs": [],
      "source": [
        "yield_df.rename({'Area': 'Area', 'Value': 'Yield (hg/ha)'}, axis=1, inplace=True)\n",
        "yield_df.drop('Unit', axis=1, inplace=True)"
      ]
    },
    {
      "cell_type": "code",
      "execution_count": 1513,
      "metadata": {
        "colab": {
          "base_uri": "https://localhost:8080/",
          "height": 0
        },
        "id": "j3TKAqZd_wRO",
        "outputId": "18cb4183-b1b1-4052-b97e-5a64f4df75c5"
      },
      "outputs": [
        {
          "data": {
            "text/html": [
              "<div>\n",
              "<style scoped>\n",
              "    .dataframe tbody tr th:only-of-type {\n",
              "        vertical-align: middle;\n",
              "    }\n",
              "\n",
              "    .dataframe tbody tr th {\n",
              "        vertical-align: top;\n",
              "    }\n",
              "\n",
              "    .dataframe thead th {\n",
              "        text-align: right;\n",
              "    }\n",
              "</style>\n",
              "<table border=\"1\" class=\"dataframe\">\n",
              "  <thead>\n",
              "    <tr style=\"text-align: right;\">\n",
              "      <th></th>\n",
              "      <th>Year</th>\n",
              "      <th>Area</th>\n",
              "      <th>Item</th>\n",
              "      <th>Rainfall (cm)</th>\n",
              "      <th>Temperature (Celsius)</th>\n",
              "      <th>Yield (hg/ha)</th>\n",
              "    </tr>\n",
              "  </thead>\n",
              "  <tbody>\n",
              "    <tr>\n",
              "      <th>0</th>\n",
              "      <td>2010</td>\n",
              "      <td>Anuppur</td>\n",
              "      <td>Soybean</td>\n",
              "      <td>9.782032</td>\n",
              "      <td>30.3092</td>\n",
              "      <td>4023.14</td>\n",
              "    </tr>\n",
              "    <tr>\n",
              "      <th>1</th>\n",
              "      <td>2010</td>\n",
              "      <td>Anuppur</td>\n",
              "      <td>Soybean</td>\n",
              "      <td>13.399120</td>\n",
              "      <td>35.1668</td>\n",
              "      <td>4023.14</td>\n",
              "    </tr>\n",
              "    <tr>\n",
              "      <th>2</th>\n",
              "      <td>2010</td>\n",
              "      <td>Anuppur</td>\n",
              "      <td>Soybean</td>\n",
              "      <td>3.680000</td>\n",
              "      <td>43.0467</td>\n",
              "      <td>4023.14</td>\n",
              "    </tr>\n",
              "    <tr>\n",
              "      <th>3</th>\n",
              "      <td>2010</td>\n",
              "      <td>Anuppur</td>\n",
              "      <td>Soybean</td>\n",
              "      <td>0.177238</td>\n",
              "      <td>29.6325</td>\n",
              "      <td>4023.14</td>\n",
              "    </tr>\n",
              "    <tr>\n",
              "      <th>4</th>\n",
              "      <td>2010</td>\n",
              "      <td>Anuppur</td>\n",
              "      <td>Soybean</td>\n",
              "      <td>1.451772</td>\n",
              "      <td>30.0325</td>\n",
              "      <td>4023.14</td>\n",
              "    </tr>\n",
              "    <tr>\n",
              "      <th>...</th>\n",
              "      <td>...</td>\n",
              "      <td>...</td>\n",
              "      <td>...</td>\n",
              "      <td>...</td>\n",
              "      <td>...</td>\n",
              "      <td>...</td>\n",
              "    </tr>\n",
              "    <tr>\n",
              "      <th>2755</th>\n",
              "      <td>2019</td>\n",
              "      <td>Vidisha</td>\n",
              "      <td>Soybean</td>\n",
              "      <td>14.133820</td>\n",
              "      <td>36.7942</td>\n",
              "      <td>5760.01</td>\n",
              "    </tr>\n",
              "    <tr>\n",
              "      <th>2756</th>\n",
              "      <td>2019</td>\n",
              "      <td>Vidisha</td>\n",
              "      <td>Soybean</td>\n",
              "      <td>2.978857</td>\n",
              "      <td>47.3017</td>\n",
              "      <td>5760.01</td>\n",
              "    </tr>\n",
              "    <tr>\n",
              "      <th>2757</th>\n",
              "      <td>2019</td>\n",
              "      <td>Vidisha</td>\n",
              "      <td>Soybean</td>\n",
              "      <td>0.218000</td>\n",
              "      <td>32.3157</td>\n",
              "      <td>5760.01</td>\n",
              "    </tr>\n",
              "    <tr>\n",
              "      <th>2758</th>\n",
              "      <td>2019</td>\n",
              "      <td>Vidisha</td>\n",
              "      <td>Soybean</td>\n",
              "      <td>1.074892</td>\n",
              "      <td>31.8626</td>\n",
              "      <td>5760.01</td>\n",
              "    </tr>\n",
              "    <tr>\n",
              "      <th>2759</th>\n",
              "      <td>2019</td>\n",
              "      <td>Vidisha</td>\n",
              "      <td>Soybean</td>\n",
              "      <td>20.979780</td>\n",
              "      <td>28.7813</td>\n",
              "      <td>5760.01</td>\n",
              "    </tr>\n",
              "  </tbody>\n",
              "</table>\n",
              "<p>2760 rows × 6 columns</p>\n",
              "</div>"
            ],
            "text/plain": [
              "      Year     Area     Item  Rainfall (cm)  Temperature (Celsius)  \\\n",
              "0     2010  Anuppur  Soybean       9.782032                30.3092   \n",
              "1     2010  Anuppur  Soybean      13.399120                35.1668   \n",
              "2     2010  Anuppur  Soybean       3.680000                43.0467   \n",
              "3     2010  Anuppur  Soybean       0.177238                29.6325   \n",
              "4     2010  Anuppur  Soybean       1.451772                30.0325   \n",
              "...    ...      ...      ...            ...                    ...   \n",
              "2755  2019  Vidisha  Soybean      14.133820                36.7942   \n",
              "2756  2019  Vidisha  Soybean       2.978857                47.3017   \n",
              "2757  2019  Vidisha  Soybean       0.218000                32.3157   \n",
              "2758  2019  Vidisha  Soybean       1.074892                31.8626   \n",
              "2759  2019  Vidisha  Soybean      20.979780                28.7813   \n",
              "\n",
              "      Yield (hg/ha)  \n",
              "0           4023.14  \n",
              "1           4023.14  \n",
              "2           4023.14  \n",
              "3           4023.14  \n",
              "4           4023.14  \n",
              "...             ...  \n",
              "2755        5760.01  \n",
              "2756        5760.01  \n",
              "2757        5760.01  \n",
              "2758        5760.01  \n",
              "2759        5760.01  \n",
              "\n",
              "[2760 rows x 6 columns]"
            ]
          },
          "execution_count": 1513,
          "metadata": {},
          "output_type": "execute_result"
        }
      ],
      "source": [
        "rain_temp_df = pd.merge(rainfall_df, temperature_df, on=['Area', 'Year','Element'])\n",
        "rain_temp_yield_df = pd.merge(rain_temp_df, yield_df, on=['Area', 'Year'])\n",
        "data = rain_temp_yield_df[['Year', 'Area', 'Item', 'Rainfall (cm)', 'Temperature (Celsius)', 'Yield (hg/ha)']]\n",
        "data"
      ]
    },
    {
      "cell_type": "code",
      "execution_count": 1514,
      "metadata": {
        "colab": {
          "base_uri": "https://localhost:8080/"
        },
        "id": "zaX8XJ26Bt5r",
        "outputId": "6b743ff6-2ed0-4124-9093-7adf1967f53b"
      },
      "outputs": [
        {
          "name": "stdout",
          "output_type": "stream",
          "text": [
            "<class 'pandas.core.frame.DataFrame'>\n",
            "Int64Index: 2760 entries, 0 to 2759\n",
            "Data columns (total 6 columns):\n",
            " #   Column                 Non-Null Count  Dtype  \n",
            "---  ------                 --------------  -----  \n",
            " 0   Year                   2760 non-null   int64  \n",
            " 1   Area                   2760 non-null   object \n",
            " 2   Item                   2760 non-null   object \n",
            " 3   Rainfall (cm)          2760 non-null   float64\n",
            " 4   Temperature (Celsius)  2760 non-null   float64\n",
            " 5   Yield (hg/ha)          2760 non-null   float64\n",
            "dtypes: float64(3), int64(1), object(2)\n",
            "memory usage: 150.9+ KB\n"
          ]
        }
      ],
      "source": [
        "data.info()"
      ]
    },
    {
      "cell_type": "code",
      "execution_count": 1515,
      "metadata": {
        "colab": {
          "base_uri": "https://localhost:8080/",
          "height": 0
        },
        "id": "HD8whHSG_2fc",
        "outputId": "a9c39853-2df4-4055-a7bf-92847fc770d1"
      },
      "outputs": [
        {
          "data": {
            "text/html": [
              "<div>\n",
              "<style scoped>\n",
              "    .dataframe tbody tr th:only-of-type {\n",
              "        vertical-align: middle;\n",
              "    }\n",
              "\n",
              "    .dataframe tbody tr th {\n",
              "        vertical-align: top;\n",
              "    }\n",
              "\n",
              "    .dataframe thead th {\n",
              "        text-align: right;\n",
              "    }\n",
              "</style>\n",
              "<table border=\"1\" class=\"dataframe\">\n",
              "  <thead>\n",
              "    <tr style=\"text-align: right;\">\n",
              "      <th></th>\n",
              "      <th>Year</th>\n",
              "      <th>Rainfall (cm)</th>\n",
              "      <th>Temperature (Celsius)</th>\n",
              "      <th>Yield (hg/ha)</th>\n",
              "    </tr>\n",
              "  </thead>\n",
              "  <tbody>\n",
              "    <tr>\n",
              "      <th>count</th>\n",
              "      <td>2760.000000</td>\n",
              "      <td>2760.000000</td>\n",
              "      <td>2760.000000</td>\n",
              "      <td>2760.000000</td>\n",
              "    </tr>\n",
              "    <tr>\n",
              "      <th>mean</th>\n",
              "      <td>2014.500000</td>\n",
              "      <td>6.102753</td>\n",
              "      <td>33.821906</td>\n",
              "      <td>9709.427196</td>\n",
              "    </tr>\n",
              "    <tr>\n",
              "      <th>std</th>\n",
              "      <td>2.872802</td>\n",
              "      <td>5.813051</td>\n",
              "      <td>5.157327</td>\n",
              "      <td>4047.819309</td>\n",
              "    </tr>\n",
              "    <tr>\n",
              "      <th>min</th>\n",
              "      <td>2010.000000</td>\n",
              "      <td>0.000000</td>\n",
              "      <td>7.005000</td>\n",
              "      <td>0.000000</td>\n",
              "    </tr>\n",
              "    <tr>\n",
              "      <th>25%</th>\n",
              "      <td>2012.000000</td>\n",
              "      <td>0.634954</td>\n",
              "      <td>30.005100</td>\n",
              "      <td>6612.902500</td>\n",
              "    </tr>\n",
              "    <tr>\n",
              "      <th>50%</th>\n",
              "      <td>2014.500000</td>\n",
              "      <td>4.725356</td>\n",
              "      <td>32.498250</td>\n",
              "      <td>9354.415000</td>\n",
              "    </tr>\n",
              "    <tr>\n",
              "      <th>75%</th>\n",
              "      <td>2017.000000</td>\n",
              "      <td>10.129935</td>\n",
              "      <td>36.793150</td>\n",
              "      <td>12727.270000</td>\n",
              "    </tr>\n",
              "    <tr>\n",
              "      <th>max</th>\n",
              "      <td>2019.000000</td>\n",
              "      <td>27.128330</td>\n",
              "      <td>47.872600</td>\n",
              "      <td>24885.150000</td>\n",
              "    </tr>\n",
              "  </tbody>\n",
              "</table>\n",
              "</div>"
            ],
            "text/plain": [
              "              Year  Rainfall (cm)  Temperature (Celsius)  Yield (hg/ha)\n",
              "count  2760.000000    2760.000000            2760.000000    2760.000000\n",
              "mean   2014.500000       6.102753              33.821906    9709.427196\n",
              "std       2.872802       5.813051               5.157327    4047.819309\n",
              "min    2010.000000       0.000000               7.005000       0.000000\n",
              "25%    2012.000000       0.634954              30.005100    6612.902500\n",
              "50%    2014.500000       4.725356              32.498250    9354.415000\n",
              "75%    2017.000000      10.129935              36.793150   12727.270000\n",
              "max    2019.000000      27.128330              47.872600   24885.150000"
            ]
          },
          "execution_count": 1515,
          "metadata": {},
          "output_type": "execute_result"
        }
      ],
      "source": [
        "data.describe()"
      ]
    },
    {
      "cell_type": "code",
      "execution_count": 1516,
      "metadata": {
        "colab": {
          "base_uri": "https://localhost:8080/"
        },
        "id": "BcMXMIMrAEQO",
        "outputId": "4199a137-9805-4ebe-dc1f-88894b9c0dd0"
      },
      "outputs": [
        {
          "data": {
            "text/plain": [
              "46"
            ]
          },
          "execution_count": 1516,
          "metadata": {},
          "output_type": "execute_result"
        }
      ],
      "source": [
        "# Number of disctricts\n",
        "len(data.Area.unique())"
      ]
    },
    {
      "cell_type": "code",
      "execution_count": 1517,
      "metadata": {
        "colab": {
          "base_uri": "https://localhost:8080/"
        },
        "id": "TF_P-hbiBlnb",
        "outputId": "c23a68dd-4b2a-4c7e-ccb6-9d8e3afe4722"
      },
      "outputs": [
        {
          "data": {
            "text/plain": [
              "10"
            ]
          },
          "execution_count": 1517,
          "metadata": {},
          "output_type": "execute_result"
        }
      ],
      "source": [
        "# Number of years (1990 - 2016)\n",
        "len(data.Year.unique())"
      ]
    },
    {
      "cell_type": "markdown",
      "metadata": {
        "id": "j50tyMsyAnTd"
      },
      "source": [
        "# Data Exploration"
      ]
    },
    {
      "cell_type": "markdown",
      "metadata": {
        "id": "KZAtMJkgFa9-"
      },
      "source": [
        "## Rainfall data"
      ]
    },
    {
      "cell_type": "code",
      "execution_count": 1518,
      "metadata": {
        "colab": {
          "base_uri": "https://localhost:8080/",
          "height": 0
        },
        "id": "8jxtkQKEFUAl",
        "outputId": "031eaed5-c474-46c9-a99c-dd585d4aca80"
      },
      "outputs": [
        {
          "data": {
            "text/html": [
              "<div>\n",
              "<style scoped>\n",
              "    .dataframe tbody tr th:only-of-type {\n",
              "        vertical-align: middle;\n",
              "    }\n",
              "\n",
              "    .dataframe tbody tr th {\n",
              "        vertical-align: top;\n",
              "    }\n",
              "\n",
              "    .dataframe thead th {\n",
              "        text-align: right;\n",
              "    }\n",
              "</style>\n",
              "<table border=\"1\" class=\"dataframe\">\n",
              "  <thead>\n",
              "    <tr style=\"text-align: right;\">\n",
              "      <th></th>\n",
              "      <th>Year</th>\n",
              "      <th>Area</th>\n",
              "      <th>Element</th>\n",
              "      <th>Rainfall (cm)</th>\n",
              "    </tr>\n",
              "  </thead>\n",
              "  <tbody>\n",
              "    <tr>\n",
              "      <th>0</th>\n",
              "      <td>2010</td>\n",
              "      <td>Anuppur</td>\n",
              "      <td>AUG</td>\n",
              "      <td>9.782032</td>\n",
              "    </tr>\n",
              "    <tr>\n",
              "      <th>1</th>\n",
              "      <td>2010</td>\n",
              "      <td>Anuppur</td>\n",
              "      <td>JUL</td>\n",
              "      <td>13.399120</td>\n",
              "    </tr>\n",
              "    <tr>\n",
              "      <th>2</th>\n",
              "      <td>2010</td>\n",
              "      <td>Anuppur</td>\n",
              "      <td>JUN</td>\n",
              "      <td>3.680000</td>\n",
              "    </tr>\n",
              "    <tr>\n",
              "      <th>3</th>\n",
              "      <td>2010</td>\n",
              "      <td>Anuppur</td>\n",
              "      <td>NOV</td>\n",
              "      <td>0.177238</td>\n",
              "    </tr>\n",
              "    <tr>\n",
              "      <th>4</th>\n",
              "      <td>2010</td>\n",
              "      <td>Anuppur</td>\n",
              "      <td>OCT</td>\n",
              "      <td>1.451772</td>\n",
              "    </tr>\n",
              "    <tr>\n",
              "      <th>...</th>\n",
              "      <td>...</td>\n",
              "      <td>...</td>\n",
              "      <td>...</td>\n",
              "      <td>...</td>\n",
              "    </tr>\n",
              "    <tr>\n",
              "      <th>2755</th>\n",
              "      <td>2019</td>\n",
              "      <td>Vidisha</td>\n",
              "      <td>JUL</td>\n",
              "      <td>14.133820</td>\n",
              "    </tr>\n",
              "    <tr>\n",
              "      <th>2756</th>\n",
              "      <td>2019</td>\n",
              "      <td>Vidisha</td>\n",
              "      <td>JUN</td>\n",
              "      <td>2.978857</td>\n",
              "    </tr>\n",
              "    <tr>\n",
              "      <th>2757</th>\n",
              "      <td>2019</td>\n",
              "      <td>Vidisha</td>\n",
              "      <td>NOV</td>\n",
              "      <td>0.218000</td>\n",
              "    </tr>\n",
              "    <tr>\n",
              "      <th>2758</th>\n",
              "      <td>2019</td>\n",
              "      <td>Vidisha</td>\n",
              "      <td>OCT</td>\n",
              "      <td>1.074892</td>\n",
              "    </tr>\n",
              "    <tr>\n",
              "      <th>2759</th>\n",
              "      <td>2019</td>\n",
              "      <td>Vidisha</td>\n",
              "      <td>SEP</td>\n",
              "      <td>20.979780</td>\n",
              "    </tr>\n",
              "  </tbody>\n",
              "</table>\n",
              "<p>2760 rows × 4 columns</p>\n",
              "</div>"
            ],
            "text/plain": [
              "      Year     Area Element  Rainfall (cm)\n",
              "0     2010  Anuppur     AUG       9.782032\n",
              "1     2010  Anuppur     JUL      13.399120\n",
              "2     2010  Anuppur     JUN       3.680000\n",
              "3     2010  Anuppur     NOV       0.177238\n",
              "4     2010  Anuppur     OCT       1.451772\n",
              "...    ...      ...     ...            ...\n",
              "2755  2019  Vidisha     JUL      14.133820\n",
              "2756  2019  Vidisha     JUN       2.978857\n",
              "2757  2019  Vidisha     NOV       0.218000\n",
              "2758  2019  Vidisha     OCT       1.074892\n",
              "2759  2019  Vidisha     SEP      20.979780\n",
              "\n",
              "[2760 rows x 4 columns]"
            ]
          },
          "execution_count": 1518,
          "metadata": {},
          "output_type": "execute_result"
        }
      ],
      "source": [
        "rainfall_df"
      ]
    },
    {
      "cell_type": "code",
      "execution_count": 1519,
      "metadata": {
        "colab": {
          "base_uri": "https://localhost:8080/",
          "height": 0
        },
        "id": "G1adPsnAFdZA",
        "outputId": "b5daee63-0263-41c3-f033-5983abfc0dcc"
      },
      "outputs": [
        {
          "data": {
            "image/png": "[encoded data removed]",
            "text/plain": [
              "<Figure size 432x288 with 1 Axes>"
            ]
          },
          "metadata": {
            "needs_background": "light"
          },
          "output_type": "display_data"
        }
      ],
      "source": [
        "rainfall_df.loc[rainfall_df['Area'] == 'Anuppur'].groupby('Year').mean().plot()\n",
        "plt.show()"
      ]
    },
    {
      "cell_type": "code",
      "execution_count": 1520,
      "metadata": {
        "colab": {
          "base_uri": "https://localhost:8080/",
          "height": 0
        },
        "id": "xrVxLmGAGLpc",
        "outputId": "95953872-9285-4479-f9fb-692a1a215d02"
      },
      "outputs": [
        {
          "data": {
            "image/png": "[encoded data removed]",
            "text/plain": [
              "<Figure size 1080x648 with 1 Axes>"
            ]
          },
          "metadata": {
            "needs_background": "light"
          },
          "output_type": "display_data"
        }
      ],
      "source": [
        "# prepare data\n",
        "temp_data = rainfall_df.groupby('Year').mean()\n",
        "\n",
        "# plot data\n",
        "fig, ax = plt.subplots(figsize=(15,9))\n",
        "fig.suptitle('Mean rainfall in mm across all disctricts between 2010 and 2019')\n",
        "\n",
        "temp_data.plot(ax=ax)\n",
        "\n",
        "ax.set_ylabel('Mean Value across all disctricts')\n",
        "ax.set_xlabel('Year')\n",
        "\n",
        "plt.show()"
      ]
    },
    {
      "cell_type": "markdown",
      "metadata": {
        "id": "Zl2_apDhGToD"
      },
      "source": [
        "## Temperature data"
      ]
    },
    {
      "cell_type": "code",
      "execution_count": 1521,
      "metadata": {
        "colab": {
          "base_uri": "https://localhost:8080/",
          "height": 0
        },
        "id": "DL6l6KmeGVkm",
        "outputId": "7cfe2b2d-25d1-4125-b843-dfd56ebb7a6e"
      },
      "outputs": [
        {
          "data": {
            "image/png": "[encoded data removed]",
            "text/plain": [
              "<Figure size 432x288 with 1 Axes>"
            ]
          },
          "metadata": {
            "needs_background": "light"
          },
          "output_type": "display_data"
        }
      ],
      "source": [
        "temperature_df.loc[temperature_df['Area'] == 'Anuppur'].groupby('Year').mean().plot()\n",
        "plt.show()"
      ]
    },
    {
      "cell_type": "code",
      "execution_count": 1522,
      "metadata": {
        "colab": {
          "base_uri": "https://localhost:8080/",
          "height": 0
        },
        "id": "FHJk_2hEGXTV",
        "outputId": "17921933-8fc4-4818-f80f-333da855ed49"
      },
      "outputs": [
        {
          "data": {
            "image/png": "[encoded data removed]",
            "text/plain": [
              "<Figure size 1080x648 with 1 Axes>"
            ]
          },
          "metadata": {
            "needs_background": "light"
          },
          "output_type": "display_data"
        }
      ],
      "source": [
        "# prepare data\n",
        "temp_data = temperature_df.groupby('Year').mean()\n",
        "\n",
        "# plot data\n",
        "fig, ax = plt.subplots(figsize=(15,9))\n",
        "fig.suptitle('Mean temperature in celsius across all disctricts between 2010 and 2019')\n",
        "\n",
        "temp_data.plot(ax=ax)\n",
        "\n",
        "ax.set_ylabel('Mean Value across all disctricts')\n",
        "ax.set_xlabel('Year')\n",
        "\n",
        "plt.show()"
      ]
    },
    {
      "cell_type": "markdown",
      "metadata": {
        "id": "XgRq9T6pGhFT"
      },
      "source": [
        "## Yield data"
      ]
    },
    {
      "cell_type": "code",
      "execution_count": 1523,
      "metadata": {
        "colab": {
          "base_uri": "https://localhost:8080/",
          "height": 616
        },
        "id": "sriIypQZAnDo",
        "outputId": "5d441557-8e60-4a9d-853c-9aa51cd37e88"
      },
      "outputs": [
        {
          "data": {
            "image/png": "[encoded data removed]",
            "text/plain": [
              "<Figure size 1080x648 with 1 Axes>"
            ]
          },
          "metadata": {
            "needs_background": "light"
          },
          "output_type": "display_data"
        }
      ],
      "source": [
        "    # prepare data\n",
        "yield_mean = yield_data.groupby(['Year', 'Item']).mean()\n",
        "\n",
        "# plot data\n",
        "fig, ax = plt.subplots(figsize=(15,9))\n",
        "fig.suptitle('Mean harvested value across all disctricts between 2010 and 2019')\n",
        "\n",
        "yield_mean['Value'].unstack().plot(ax=ax)\n",
        "\n",
        "ax.set_ylabel('Mean Value across all disctricts')\n",
        "ax.set_xlabel('Year')\n",
        "\n",
        "plt.show()"
      ]
    },
    {
      "cell_type": "markdown",
      "metadata": {
        "id": "ZSZPFIsTGnPX"
      },
      "source": [
        "## Merged data"
      ]
    },
    {
      "cell_type": "code",
      "execution_count": 1524,
      "metadata": {
        "colab": {
          "base_uri": "https://localhost:8080/",
          "height": 616
        },
        "id": "3ycaV9SFGoev",
        "outputId": "a4c1d6ba-3e96-4a81-c895-d40158da5b0f"
      },
      "outputs": [
        {
          "data": {
            "image/png": "[encoded data removed]",
            "text/plain": [
              "<Figure size 1080x648 with 1 Axes>"
            ]
          },
          "metadata": {
            "needs_background": "light"
          },
          "output_type": "display_data"
        }
      ],
      "source": [
        "# prepare data\n",
        "temp_data = data.groupby(['Year', 'Item']).mean()\n",
        "\n",
        "# plot data\n",
        "fig, ax = plt.subplots(figsize=(15,9))\n",
        "fig.suptitle('Mean harvested value across all disctricts between 2010 and 2019')\n",
        "\n",
        "temp_data['Yield (hg/ha)'].unstack().plot(ax=ax)\n",
        "\n",
        "ax.set_ylabel('Mean Value across all disctricts')\n",
        "ax.set_xlabel('Year')\n",
        "\n",
        "plt.show()"
      ]
    },
    {
      "cell_type": "code",
      "execution_count": 1525,
      "metadata": {
        "colab": {
          "base_uri": "https://localhost:8080/",
          "height": 637
        },
        "id": "ieZAae032mYt",
        "outputId": "28709fcc-7cde-4d66-a4d1-cd7070b3c6a8"
      },
      "outputs": [
        {
          "name": "stderr",
          "output_type": "stream",
          "text": [
            "C:\\Users\\nicol\\AppData\\Local\\Temp\\ipykernel_12676\\577026599.py:3: DeprecationWarning: `np.bool` is a deprecated alias for the builtin `bool`. To silence this warning, use `bool` by itself. Doing this will not modify any behavior and is safe. If you specifically wanted the numpy scalar type, use `np.bool_` here.\n",
            "Deprecated in NumPy 1.20; for more details and guidance: https://numpy.org/devdocs/release/1.20.0-notes.html#deprecations\n",
            "  mask = np.zeros_like(corr, dtype=np.bool)\n"
          ]
        },
        {
          "data": {
            "image/png": "[encoded data removed]",
            "text/plain": [
              "<Figure size 792x648 with 2 Axes>"
            ]
          },
          "metadata": {
            "needs_background": "light"
          },
          "output_type": "display_data"
        }
      ],
      "source": [
        "corr = data.select_dtypes(include=[np.number]).corr()\n",
        "\n",
        "mask = np.zeros_like(corr, dtype=np.bool)\n",
        "mask[np.triu_indices_from(mask)] = True\n",
        "\n",
        "f, ax = plt.subplots(figsize=(11, 9))\n",
        "\n",
        "# Generate a custom diverging colormap\n",
        "cmap = sns.palette=\"vlag\"\n",
        "\n",
        "# Draw the heatmap with the mask and correct aspect ratio\n",
        "sns.heatmap(corr, mask=mask, cmap=cmap, vmax=.3, center=0,\n",
        "            square=True, linewidths=.5, cbar_kws={\"shrink\": .5});"
      ]
    },
    {
      "cell_type": "code",
      "execution_count": 1526,
      "metadata": {
        "colab": {
          "base_uri": "https://localhost:8080/",
          "height": 241
        },
        "id": "vZovFF7GYqLU",
        "outputId": "51553d08-004f-49c1-ff8d-2a894d5bb14d"
      },
      "outputs": [
        {
          "data": {
            "image/png": "[encoded data removed]",
            "text/plain": [
              "<Figure size 1440x216 with 2 Axes>"
            ]
          },
          "metadata": {
            "needs_background": "light"
          },
          "output_type": "display_data"
        }
      ],
      "source": [
        "plt.figure(figsize=(20,3))\n",
        "\n",
        "plt.subplot(1,2,1)\n",
        "sns.boxplot(x=data['Yield (hg/ha)'],color='#005030')\n",
        "plt.title(f'Box Plot')\n",
        "\n",
        "plt.subplot(1,2,2)\n",
        "sns.histplot(x=data['Yield (hg/ha)'], color='#500050', kde=True)\n",
        "plt.title(f'Distribution Plot')\n",
        "plt.show()"
      ]
    },
    {
      "cell_type": "markdown",
      "metadata": {
        "id": "GM8b-vOJ3T-C"
      },
      "source": [
        "# Data Preprocessing"
      ]
    },
    {
      "cell_type": "markdown",
      "metadata": {
        "id": "Db0QImn6ELWm"
      },
      "source": [
        "## One Hot Encoding"
      ]
    },
    {
      "cell_type": "code",
      "execution_count": 1527,
      "metadata": {
        "colab": {
          "base_uri": "https://localhost:8080/"
        },
        "id": "F6Qbjvp5EODk",
        "outputId": "6ddd7fa5-fe38-4bb4-fb85-de6c1c1cdb88"
      },
      "outputs": [
        {
          "data": {
            "text/html": [
              "<div>\n",
              "<style scoped>\n",
              "    .dataframe tbody tr th:only-of-type {\n",
              "        vertical-align: middle;\n",
              "    }\n",
              "\n",
              "    .dataframe tbody tr th {\n",
              "        vertical-align: top;\n",
              "    }\n",
              "\n",
              "    .dataframe thead th {\n",
              "        text-align: right;\n",
              "    }\n",
              "</style>\n",
              "<table border=\"1\" class=\"dataframe\">\n",
              "  <thead>\n",
              "    <tr style=\"text-align: right;\">\n",
              "      <th></th>\n",
              "      <th>Year</th>\n",
              "      <th>Area</th>\n",
              "      <th>Item</th>\n",
              "      <th>Rainfall (cm)</th>\n",
              "      <th>Temperature (Celsius)</th>\n",
              "      <th>Yield (hg/ha)</th>\n",
              "    </tr>\n",
              "  </thead>\n",
              "  <tbody>\n",
              "    <tr>\n",
              "      <th>0</th>\n",
              "      <td>2010</td>\n",
              "      <td>Anuppur</td>\n",
              "      <td>Soybean</td>\n",
              "      <td>9.782032</td>\n",
              "      <td>30.3092</td>\n",
              "      <td>4023.14</td>\n",
              "    </tr>\n",
              "    <tr>\n",
              "      <th>1</th>\n",
              "      <td>2010</td>\n",
              "      <td>Anuppur</td>\n",
              "      <td>Soybean</td>\n",
              "      <td>13.399120</td>\n",
              "      <td>35.1668</td>\n",
              "      <td>4023.14</td>\n",
              "    </tr>\n",
              "    <tr>\n",
              "      <th>2</th>\n",
              "      <td>2010</td>\n",
              "      <td>Anuppur</td>\n",
              "      <td>Soybean</td>\n",
              "      <td>3.680000</td>\n",
              "      <td>43.0467</td>\n",
              "      <td>4023.14</td>\n",
              "    </tr>\n",
              "    <tr>\n",
              "      <th>3</th>\n",
              "      <td>2010</td>\n",
              "      <td>Anuppur</td>\n",
              "      <td>Soybean</td>\n",
              "      <td>0.177238</td>\n",
              "      <td>29.6325</td>\n",
              "      <td>4023.14</td>\n",
              "    </tr>\n",
              "    <tr>\n",
              "      <th>4</th>\n",
              "      <td>2010</td>\n",
              "      <td>Anuppur</td>\n",
              "      <td>Soybean</td>\n",
              "      <td>1.451772</td>\n",
              "      <td>30.0325</td>\n",
              "      <td>4023.14</td>\n",
              "    </tr>\n",
              "    <tr>\n",
              "      <th>...</th>\n",
              "      <td>...</td>\n",
              "      <td>...</td>\n",
              "      <td>...</td>\n",
              "      <td>...</td>\n",
              "      <td>...</td>\n",
              "      <td>...</td>\n",
              "    </tr>\n",
              "    <tr>\n",
              "      <th>2755</th>\n",
              "      <td>2019</td>\n",
              "      <td>Vidisha</td>\n",
              "      <td>Soybean</td>\n",
              "      <td>14.133820</td>\n",
              "      <td>36.7942</td>\n",
              "      <td>5760.01</td>\n",
              "    </tr>\n",
              "    <tr>\n",
              "      <th>2756</th>\n",
              "      <td>2019</td>\n",
              "      <td>Vidisha</td>\n",
              "      <td>Soybean</td>\n",
              "      <td>2.978857</td>\n",
              "      <td>47.3017</td>\n",
              "      <td>5760.01</td>\n",
              "    </tr>\n",
              "    <tr>\n",
              "      <th>2757</th>\n",
              "      <td>2019</td>\n",
              "      <td>Vidisha</td>\n",
              "      <td>Soybean</td>\n",
              "      <td>0.218000</td>\n",
              "      <td>32.3157</td>\n",
              "      <td>5760.01</td>\n",
              "    </tr>\n",
              "    <tr>\n",
              "      <th>2758</th>\n",
              "      <td>2019</td>\n",
              "      <td>Vidisha</td>\n",
              "      <td>Soybean</td>\n",
              "      <td>1.074892</td>\n",
              "      <td>31.8626</td>\n",
              "      <td>5760.01</td>\n",
              "    </tr>\n",
              "    <tr>\n",
              "      <th>2759</th>\n",
              "      <td>2019</td>\n",
              "      <td>Vidisha</td>\n",
              "      <td>Soybean</td>\n",
              "      <td>20.979780</td>\n",
              "      <td>28.7813</td>\n",
              "      <td>5760.01</td>\n",
              "    </tr>\n",
              "  </tbody>\n",
              "</table>\n",
              "<p>2760 rows × 6 columns</p>\n",
              "</div>"
            ],
            "text/plain": [
              "      Year     Area     Item  Rainfall (cm)  Temperature (Celsius)  \\\n",
              "0     2010  Anuppur  Soybean       9.782032                30.3092   \n",
              "1     2010  Anuppur  Soybean      13.399120                35.1668   \n",
              "2     2010  Anuppur  Soybean       3.680000                43.0467   \n",
              "3     2010  Anuppur  Soybean       0.177238                29.6325   \n",
              "4     2010  Anuppur  Soybean       1.451772                30.0325   \n",
              "...    ...      ...      ...            ...                    ...   \n",
              "2755  2019  Vidisha  Soybean      14.133820                36.7942   \n",
              "2756  2019  Vidisha  Soybean       2.978857                47.3017   \n",
              "2757  2019  Vidisha  Soybean       0.218000                32.3157   \n",
              "2758  2019  Vidisha  Soybean       1.074892                31.8626   \n",
              "2759  2019  Vidisha  Soybean      20.979780                28.7813   \n",
              "\n",
              "      Yield (hg/ha)  \n",
              "0           4023.14  \n",
              "1           4023.14  \n",
              "2           4023.14  \n",
              "3           4023.14  \n",
              "4           4023.14  \n",
              "...             ...  \n",
              "2755        5760.01  \n",
              "2756        5760.01  \n",
              "2757        5760.01  \n",
              "2758        5760.01  \n",
              "2759        5760.01  \n",
              "\n",
              "[2760 rows x 6 columns]"
            ]
          },
          "execution_count": 1527,
          "metadata": {},
          "output_type": "execute_result"
        }
      ],
      "source": [
        "data.shape\n",
        "data"
      ]
    },
    {
      "cell_type": "code",
      "execution_count": 1528,
      "metadata": {
        "id": "fzm584773Xwi"
      },
      "outputs": [],
      "source": [
        "from sklearn.preprocessing import OneHotEncoder\n",
        "\n",
        "df_onehot = pd.get_dummies(data, columns=['Area', 'Item'], prefix=['Area', 'Item'])\n",
        "data = df_onehot.loc[:, df_onehot.columns != 'Yield (hg/ha)']\n",
        "data['Yield (hg/ha)'] = df_onehot['Yield (hg/ha)']"
      ]
    },
    {
      "cell_type": "code",
      "execution_count": 1529,
      "metadata": {
        "colab": {
          "base_uri": "https://localhost:8080/"
        },
        "id": "ezDlRPNOERrn",
        "outputId": "91ce378c-8cf9-4b8a-820b-9657bfa89c71"
      },
      "outputs": [
        {
          "data": {
            "text/plain": [
              "(2760, 51)"
            ]
          },
          "execution_count": 1529,
          "metadata": {},
          "output_type": "execute_result"
        }
      ],
      "source": [
        "data.shape"
      ]
    },
    {
      "cell_type": "markdown",
      "metadata": {
        "id": "tkSgJZToEjcs"
      },
      "source": [
        "## Backward Elimination"
      ]
    },
    {
      "cell_type": "code",
      "execution_count": 1530,
      "metadata": {
        "colab": {
          "base_uri": "https://localhost:8080/"
        },
        "id": "QHHjkPqnEptL",
        "outputId": "60b9af57-8ae4-491f-acb2-461fa65df14b"
      },
      "outputs": [],
      "source": [
        "import statsmodels.api as sm\n",
        "\n",
        "y = data['Yield (hg/ha)']\n",
        "X = data.drop('Yield (hg/ha)', axis=1)\n",
        "\n",
        "cols = list(X.columns)\n",
        "pmax = 1\n",
        "while (len(cols)>0):\n",
        "    p = []\n",
        "    X_1 = X[cols]\n",
        "    X_1 = sm.add_constant(X_1)\n",
        "    model = sm.OLS(y,X_1).fit()\n",
        "    p = pd.Series(model.pvalues.values[0:], index = cols)      \n",
        "    pmax = max(p)\n",
        "    feature_with_p_max = p.idxmax()\n",
        "    if(pmax>0.05):\n",
        "        cols.remove(feature_with_p_max)\n",
        "    else:\n",
        "        break\n",
        "\n",
        "data = data[cols]\n",
        "data.insert(len(data.columns), 'Yield (hg/ha)', y)"
      ]
    },
    {
      "cell_type": "code",
      "execution_count": 1531,
      "metadata": {
        "colab": {
          "base_uri": "https://localhost:8080/"
        },
        "id": "M2wF0fPeF35h",
        "outputId": "a8b0a2df-a503-47c6-bbd3-b2d5f33ff0c7"
      },
      "outputs": [
        {
          "data": {
            "text/plain": [
              "(2760, 50)"
            ]
          },
          "execution_count": 1531,
          "metadata": {},
          "output_type": "execute_result"
        }
      ],
      "source": [
        "data.shape"
      ]
    },
    {
      "cell_type": "markdown",
      "metadata": {
        "id": "3uKaTDeD4BCy"
      },
      "source": [
        "## Feature Scaling"
      ]
    },
    {
      "cell_type": "code",
      "execution_count": 1532,
      "metadata": {
        "colab": {
          "base_uri": "https://localhost:8080/"
        },
        "id": "bN4BLCABq6qK",
        "outputId": "3521e0dd-4db1-4c62-9601-8e089329594f"
      },
      "outputs": [
        {
          "data": {
            "text/plain": [
              "(2760, 50)"
            ]
          },
          "execution_count": 1532,
          "metadata": {},
          "output_type": "execute_result"
        }
      ],
      "source": [
        "data.shape"
      ]
    },
    {
      "cell_type": "code",
      "execution_count": 1533,
      "metadata": {
        "id": "njKYQI9M3_Wb"
      },
      "outputs": [],
      "source": [
        "from sklearn.preprocessing import MinMaxScaler\n",
        "\n",
        "y = data['Yield (hg/ha)']\n",
        "X = data.drop('Yield (hg/ha)', axis=1)\n",
        "\n",
        "scaler = MinMaxScaler()\n",
        "data_without_yield = pd.DataFrame(scaler.fit_transform(X), index=y.index)\n",
        "data_without_yield\n",
        "data_without_yield.columns = X.columns\n",
        "data_without_yield.insert(len(data_without_yield.columns), 'Yield (hg/ha)', y)\n",
        "\n",
        "data = data_without_yield"
      ]
    },
    {
      "cell_type": "code",
      "execution_count": 1534,
      "metadata": {
        "colab": {
          "base_uri": "https://localhost:8080/"
        },
        "id": "WFuArBEDq7lO",
        "outputId": "9ad13f10-1de9-4b5e-8ec6-1bcc6630bb58"
      },
      "outputs": [
        {
          "data": {
            "text/plain": [
              "(2760, 50)"
            ]
          },
          "execution_count": 1534,
          "metadata": {},
          "output_type": "execute_result"
        }
      ],
      "source": [
        "data.shape"
      ]
    },
    {
      "cell_type": "code",
      "execution_count": null,
      "metadata": {},
      "outputs": [],
      "source": []
    },
    {
      "cell_type": "markdown",
      "metadata": {
        "id": "v50zqQjnGYXy"
      },
      "source": [
        "# Modeling"
      ]
    },
    {
      "cell_type": "code",
      "execution_count": 1535,
      "metadata": {
        "id": "_bdGTFeWrgDB"
      },
      "outputs": [],
      "source": [
        "y = data['Yield (hg/ha)']\n",
        "X = data.drop('Yield (hg/ha)', axis=1)"
      ]
    },
    {
      "cell_type": "code",
      "execution_count": 1536,
      "metadata": {
        "id": "P7_mia574S3d"
      },
      "outputs": [],
      "source": [
        "from sklearn.model_selection import train_test_split\n",
        "X_train, X_test, y_train, y_test = train_test_split(X, y, test_size=0.2, random_state=42)"
      ]
    },
    {
      "cell_type": "code",
      "execution_count": 1537,
      "metadata": {
        "id": "8wWdT5R2tCqL"
      },
      "outputs": [],
      "source": [
        "def mean_absolute_percentage_error(y_true, y_pred): \n",
        "    y_true, y_pred = np.array(y_true), np.array(y_pred)\n",
        "    return np.mean(np.abs((y_true - y_pred) / y_true)) * 100"
      ]
    },
    {
      "cell_type": "code",
      "execution_count": 1538,
      "metadata": {
        "id": "gEZNJ2UEtPSN"
      },
      "outputs": [],
      "source": [
        "def plot_regression_results(ax, y_test, y_pred, title, estimated_time, scores):\n",
        "\n",
        "  # linear least-squares\n",
        "  slope, intercept, rvalue, pvalue, stderr = linregress(y_test, y_pred)\n",
        "  ax.plot([y_test.min(), y_test.max()], [intercept+y_test.min()*slope, intercept+y_test.max()*slope], '--r')\n",
        "\n",
        "  ax.scatter(y_test, y_pred, alpha=0.7)\n",
        "\n",
        "  # Anzeigen der Werte in einer Box\n",
        "  extra = plt.Rectangle((0, 0), 0, 0, fc=\"w\", fill=False,\n",
        "                          edgecolor='none', linewidth=0)\n",
        "  ax.legend([extra], [scores], loc='upper left')\n",
        "\n",
        "  ax.set_xlabel('Actual values in tonnes')\n",
        "  ax.set_ylabel('Predictes values in tonnes')\n",
        "  ax.set_title('{}\\nTrained in {:.2f} Milliseconds'.format(name, estimated_time*1000))"
      ]
    },
    {
      "cell_type": "code",
      "execution_count": 1539,
      "metadata": {
        "colab": {
          "base_uri": "https://localhost:8080/",
          "height": 937
        },
        "id": "7xA4dA6CtRsB",
        "outputId": "8fb676f6-3b9c-4a85-fb68-19749c45cb00"
      },
      "outputs": [
        {
          "name": "stderr",
          "output_type": "stream",
          "text": [
            "C:\\Users\\nicol\\AppData\\Local\\Temp\\ipykernel_12676\\4111968303.py:3: RuntimeWarning: divide by zero encountered in true_divide\n",
            "  return np.mean(np.abs((y_true - y_pred) / y_true)) * 100\n",
            "C:\\Users\\nicol\\AppData\\Local\\Temp\\ipykernel_12676\\4111968303.py:3: RuntimeWarning: invalid value encountered in true_divide\n",
            "  return np.mean(np.abs((y_true - y_pred) / y_true)) * 100\n",
            "c:\\Users\\nicol\\anaconda3\\lib\\site-packages\\sklearn\\linear_model\\_stochastic_gradient.py:165: FutureWarning: The loss 'squared_loss' was deprecated in v1.0 and will be removed in version 1.2. Use `loss='squared_error'` which is equivalent.\n",
            "  warnings.warn(\n",
            "C:\\Users\\nicol\\AppData\\Local\\Temp\\ipykernel_12676\\4111968303.py:3: RuntimeWarning: divide by zero encountered in true_divide\n",
            "  return np.mean(np.abs((y_true - y_pred) / y_true)) * 100\n",
            "C:\\Users\\nicol\\AppData\\Local\\Temp\\ipykernel_12676\\4111968303.py:3: RuntimeWarning: divide by zero encountered in true_divide\n",
            "  return np.mean(np.abs((y_true - y_pred) / y_true)) * 100\n",
            "C:\\Users\\nicol\\AppData\\Local\\Temp\\ipykernel_12676\\4111968303.py:3: RuntimeWarning: divide by zero encountered in true_divide\n",
            "  return np.mean(np.abs((y_true - y_pred) / y_true)) * 100\n",
            "C:\\Users\\nicol\\AppData\\Local\\Temp\\ipykernel_12676\\4111968303.py:3: RuntimeWarning: divide by zero encountered in true_divide\n",
            "  return np.mean(np.abs((y_true - y_pred) / y_true)) * 100\n"
          ]
        },
        {
          "data": {
            "image/png": "[encoded data removed]",
            "text/plain": [
              "<Figure size 1440x936 with 6 Axes>"
            ]
          },
          "metadata": {
            "needs_background": "light"
          },
          "output_type": "display_data"
        }
      ],
      "source": [
        "from sklearn.metrics import mean_squared_error, r2_score, mean_absolute_error, max_error\n",
        "from sklearn.ensemble import GradientBoostingRegressor, RandomForestRegressor\n",
        "from sklearn.model_selection import cross_validate, cross_val_predict\n",
        "from sklearn.linear_model import LinearRegression, SGDRegressor\n",
        "from sklearn.model_selection import train_test_split\n",
        "from sklearn.neighbors import KNeighborsRegressor\n",
        "from sklearn.preprocessing import StandardScaler\n",
        "from sklearn.preprocessing import LabelEncoder\n",
        "from sklearn.tree import DecisionTreeRegressor\n",
        "\n",
        "import time\n",
        "from scipy.stats import linregress\n",
        "\n",
        "lin = LinearRegression()\n",
        "dtr = DecisionTreeRegressor()\n",
        "sgd = SGDRegressor(loss='squared_loss')\n",
        "gbr = GradientBoostingRegressor()\n",
        "knn = KNeighborsRegressor(n_neighbors=5)\n",
        "rfr = RandomForestRegressor()\n",
        "\n",
        "# Verwendete Regressionen\n",
        "estimators = [('Linear Regression', lin),\n",
        "              ('Decision Tree Regression', dtr),\n",
        "              ('Stochastic Gradient Descent Regression', sgd),\n",
        "              ('Gradient Boosting Regression', gbr),\n",
        "              ('K-nearest Neighbour 5', knn),\n",
        "              ('Random Forest Regression', rfr)]\n",
        "\n",
        "# Festlegen des Subplots\n",
        "fig, axs = plt.subplots(nrows=2, ncols=3, sharex=True, sharey=True, figsize=(20, 13))\n",
        "axs = np.ravel(axs)\n",
        "\n",
        "for ax, (name, est) in zip(axs, estimators):\n",
        "  start_time = time.time()\n",
        "  # Training the model \n",
        "  est.fit(X_train, y_train)\n",
        "  y_pred = est.predict(X_test)\n",
        "  estimated_time = time.time() - start_time\n",
        "\n",
        "  # View the model\n",
        "\n",
        "  plot_regression_results(ax, y_test, y_pred, name, estimated_time, \n",
        "                          (r'$R^2$ = {:.2f}' + '\\n' + \n",
        "                          r'MAE = {:.0f}' + '\\n' +\n",
        "                          r'MSE = {:.0f}' + '\\n' +\n",
        "                          r'RMSE = {:.0f}' + '\\n' +\n",
        "                          r'MAX = {:.0f}' + '\\n' +\n",
        "                          r'MAPE = {:.2f}%')\n",
        "                          .format(r2_score(y_test, y_pred),\n",
        "                                  mean_absolute_error(y_test, y_pred),\n",
        "                                  mean_squared_error(y_test, y_pred),\n",
        "                                  mean_squared_error(y_test, y_pred, squared=False),\n",
        "                                  max_error(y_test, y_pred),\n",
        "                                  mean_absolute_percentage_error(y_test, y_pred)))\n",
        "  \n",
        "plt.suptitle('Regression analysis')\n",
        "plt.tight_layout()\n",
        "plt.subplots_adjust(top=0.9)\n",
        "plt.show()"
      ]
    },
    {
      "cell_type": "code",
      "execution_count": null,
      "metadata": {},
      "outputs": [],
      "source": []
    },
    {
      "cell_type": "code",
      "execution_count": 1540,
      "metadata": {
        "colab": {
          "base_uri": "https://localhost:8080/",
          "height": 356
        },
        "id": "cSceiM09tVlX",
        "outputId": "2edfdfe7-4077-405a-9a4f-9473c7d31061"
      },
      "outputs": [
        {
          "data": {
            "image/png": "[encoded data removed]",
            "text/plain": [
              "<Figure size 2160x360 with 5 Axes>"
            ]
          },
          "metadata": {
            "needs_background": "light"
          },
          "output_type": "display_data"
        }
      ],
      "source": [
        "r2_values = []\n",
        "max_error_values = []\n",
        "neg_mean_absolute_error_values = []\n",
        "neg_mean_squared_error_values = []\n",
        "neg_root_mean_squared_error_values = []\n",
        "\n",
        "for name, est in estimators:\n",
        "  # Cross validation\n",
        "  score = cross_validate(est, X_train, y_train, cv=5,\n",
        "                         scoring=['r2', 'max_error', 'neg_mean_absolute_error', 'neg_mean_squared_error', 'neg_root_mean_squared_error'],\n",
        "                         n_jobs=-1)\n",
        "\n",
        "  # Abspeichern der Werte\n",
        "  r2_values.append(score['test_r2'])\n",
        "  max_error_values.append(-score['test_max_error'])\n",
        "  neg_mean_absolute_error_values.append(-score['test_neg_mean_absolute_error'])\n",
        "  neg_mean_squared_error_values.append(-score['test_neg_mean_squared_error'])\n",
        "  neg_root_mean_squared_error_values.append(-score['test_neg_root_mean_squared_error'])\n",
        "\n",
        "# Plotten der Werte\n",
        "fig, axs = plt.subplots(nrows=1, ncols=5, figsize=(30, 5))\n",
        "\n",
        "names = ['LR', 'DTR', 'SGD', 'GBR', 'KNN', 'RFR']\n",
        "\n",
        "axs[0].boxplot(r2_values, labels=names)\n",
        "axs[0].set_title('R2')\n",
        "axs[1].boxplot(max_error_values, labels=names)\n",
        "axs[1].set_title('MAX')\n",
        "axs[2].boxplot(neg_mean_absolute_error_values, labels=names)\n",
        "axs[2].set_title('MAE')\n",
        "axs[3].boxplot(neg_mean_squared_error_values, labels=names)\n",
        "axs[3].set_title('MSE')\n",
        "axs[4].boxplot(neg_root_mean_squared_error_values, labels=names)\n",
        "axs[4].set_title('RMSE')\n",
        "\n",
        "plt.suptitle('Cross-validation')\n",
        "plt.show()"
      ]
    },
    {
      "cell_type": "code",
      "execution_count": 1541,
      "metadata": {
        "colab": {
          "base_uri": "https://localhost:8080/"
        },
        "id": "hgQq7J0svGYY",
        "outputId": "3521487a-be23-4de0-8df3-5a0c350cff71"
      },
      "outputs": [
        {
          "name": "stdout",
          "output_type": "stream",
          "text": [
            "R²: 0.923 ± 0.021\n",
            "MAX: 5,853 ± 1,615\n",
            "MAE: 743 ± 94\n",
            "MSE: 1,260,500 ± 335,811\n",
            "RMSE: 1,112 ± 156\n"
          ]
        }
      ],
      "source": [
        "regression = 5\n",
        "\n",
        "print(u'R²: {:.3f} \\u00B1 {:.3f}'.format(np.mean(r2_values[regression]), np.std(r2_values[regression])))\n",
        "print(u'MAX: {:,.0f} \\u00B1 {:,.0f}'.format(np.mean(max_error_values[regression]), np.std(max_error_values[regression])))\n",
        "print(u'MAE: {:,.0f} \\u00B1 {:,.0f}'.format(np.mean(neg_mean_absolute_error_values[regression]), np.std(neg_mean_absolute_error_values[regression])))\n",
        "print(u'MSE: {:,.0f} \\u00B1 {:,.0f}'.format(np.mean(neg_mean_squared_error_values[regression]), np.std(neg_mean_squared_error_values[regression])))\n",
        "print(u'RMSE: {:,.0f} \\u00B1 {:,.0f}'.format(np.mean(neg_root_mean_squared_error_values[regression]), np.std(neg_root_mean_squared_error_values[regression])))"
      ]
    },
    {
      "cell_type": "code",
      "execution_count": 1542,
      "metadata": {
        "id": "i55j9iQJ8fjn"
      },
      "outputs": [],
      "source": [
        "from sklearn.tree import export_graphviz\n",
        "import pydot\n",
        "\n",
        "tree = rfr.estimators_[5]\n",
        "\n",
        "export_graphviz(tree, out_file = 'tree.dot', feature_names = data.columns[:-1], rounded = True, precision = 1)\n",
        "# Use dot file to create a graph\n",
        "(graph, ) = pydot.graph_from_dot_file('tree.dot')\n",
        "# Write graph to a png file\n",
        "graph.write_png('tree.png')\n"
      ]
    }
  ],
  "metadata": {
    "colab": {
      "collapsed_sections": [
        "gICh1IqOCslF",
        "m739eEE20dev",
        "ZWPdFJhwif9X",
        "I_viM345p0qr",
        "bfkBFYYk0id8",
        "Zwt3qFL4uY5w",
        "zLMa9ocB7C9F",
        "j50tyMsyAnTd"
      ],
      "include_colab_link": true,
      "name": "Yield-Prediction.ipynb",
      "provenance": [],
      "toc_visible": true
    },
    "kernelspec": {
      "display_name": "Python 3.9.12 ('base')",
      "language": "python",
      "name": "python3"
    },
    "language_info": {
      "codemirror_mode": {
        "name": "ipython",
        "version": 3
      },
      "file_extension": ".py",
      "mimetype": "text/x-python",
      "name": "python",
      "nbconvert_exporter": "python",
      "pygments_lexer": "ipython3",
      "version": "3.9.12"
    },
    "vscode": {
      "interpreter": {
        "hash": "07878c45a9b18549480ac2f9ecb8f16bb7162456cf654f6757bcff1d6396abe7"
      }
    }
  },
  "nbformat": 4,
  "nbformat_minor": 0
}
